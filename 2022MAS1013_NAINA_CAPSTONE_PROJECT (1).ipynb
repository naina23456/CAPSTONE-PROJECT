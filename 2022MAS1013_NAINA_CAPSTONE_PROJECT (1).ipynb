{
 "cells": [
  {
   "cell_type": "code",
   "execution_count": 1,
   "id": "1f8db408",
   "metadata": {},
   "outputs": [],
   "source": [
    "#importing necessary libraries\n",
    "\n",
    "import numpy as np\n",
    "import pandas as pd\n",
    "import matplotlib.pyplot as plt\n",
    "import seaborn as sns"
   ]
  },
  {
   "cell_type": "code",
   "execution_count": 2,
   "id": "d1d3f6a1",
   "metadata": {},
   "outputs": [],
   "source": [
    "#REading training data\n",
    "df = pd.read_csv(\"Train_Data.csv\") "
   ]
  },
  {
   "cell_type": "code",
   "execution_count": 3,
   "id": "e3841024",
   "metadata": {},
   "outputs": [
    {
     "data": {
      "text/plain": [
       "(22584, 19)"
      ]
     },
     "execution_count": 3,
     "metadata": {},
     "output_type": "execute_result"
    }
   ],
   "source": [
    "df.shape"
   ]
  },
  {
   "cell_type": "code",
   "execution_count": 4,
   "id": "836a44a8",
   "metadata": {},
   "outputs": [
    {
     "data": {
      "text/html": [
       "<div>\n",
       "<style scoped>\n",
       "    .dataframe tbody tr th:only-of-type {\n",
       "        vertical-align: middle;\n",
       "    }\n",
       "\n",
       "    .dataframe tbody tr th {\n",
       "        vertical-align: top;\n",
       "    }\n",
       "\n",
       "    .dataframe thead th {\n",
       "        text-align: right;\n",
       "    }\n",
       "</style>\n",
       "<table border=\"1\" class=\"dataframe\">\n",
       "  <thead>\n",
       "    <tr style=\"text-align: right;\">\n",
       "      <th></th>\n",
       "      <th>pc</th>\n",
       "      <th>ld</th>\n",
       "      <th>m0</th>\n",
       "      <th>m1</th>\n",
       "      <th>m2</th>\n",
       "      <th>m3</th>\n",
       "      <th>m4</th>\n",
       "      <th>m5</th>\n",
       "      <th>m6</th>\n",
       "      <th>m7</th>\n",
       "      <th>m8</th>\n",
       "      <th>m9</th>\n",
       "      <th>m10</th>\n",
       "      <th>m11</th>\n",
       "      <th>m12</th>\n",
       "      <th>m13</th>\n",
       "      <th>m14</th>\n",
       "      <th>ma</th>\n",
       "      <th>pred</th>\n",
       "    </tr>\n",
       "  </thead>\n",
       "  <tbody>\n",
       "    <tr>\n",
       "      <th>0</th>\n",
       "      <td>y</td>\n",
       "      <td>83.71</td>\n",
       "      <td>63.0</td>\n",
       "      <td>7.2</td>\n",
       "      <td>52.5</td>\n",
       "      <td>14.0232</td>\n",
       "      <td>130.8300</td>\n",
       "      <td>12.4280</td>\n",
       "      <td>188.8425</td>\n",
       "      <td>8.9520</td>\n",
       "      <td>201.1905</td>\n",
       "      <td>9.2896</td>\n",
       "      <td>141.9075</td>\n",
       "      <td>16.0968</td>\n",
       "      <td>150.3390</td>\n",
       "      <td>12.4880</td>\n",
       "      <td>173.1240</td>\n",
       "      <td>m78</td>\n",
       "      <td>0</td>\n",
       "    </tr>\n",
       "    <tr>\n",
       "      <th>1</th>\n",
       "      <td>y</td>\n",
       "      <td>108.94</td>\n",
       "      <td>31.5</td>\n",
       "      <td>12.8</td>\n",
       "      <td>84.0</td>\n",
       "      <td>13.2840</td>\n",
       "      <td>128.8350</td>\n",
       "      <td>13.5256</td>\n",
       "      <td>183.0990</td>\n",
       "      <td>8.8520</td>\n",
       "      <td>207.2385</td>\n",
       "      <td>8.4704</td>\n",
       "      <td>154.7805</td>\n",
       "      <td>13.3304</td>\n",
       "      <td>101.0205</td>\n",
       "      <td>12.5096</td>\n",
       "      <td>131.4075</td>\n",
       "      <td>m78</td>\n",
       "      <td>0</td>\n",
       "    </tr>\n",
       "    <tr>\n",
       "      <th>2</th>\n",
       "      <td>E</td>\n",
       "      <td>169.65</td>\n",
       "      <td>0.0</td>\n",
       "      <td>5.6</td>\n",
       "      <td>73.5</td>\n",
       "      <td>14.5472</td>\n",
       "      <td>128.9295</td>\n",
       "      <td>13.6424</td>\n",
       "      <td>174.4680</td>\n",
       "      <td>8.9800</td>\n",
       "      <td>190.3125</td>\n",
       "      <td>11.3056</td>\n",
       "      <td>156.7650</td>\n",
       "      <td>NaN</td>\n",
       "      <td>122.5350</td>\n",
       "      <td>11.7136</td>\n",
       "      <td>176.8200</td>\n",
       "      <td>m76</td>\n",
       "      <td>1</td>\n",
       "    </tr>\n",
       "    <tr>\n",
       "      <th>3</th>\n",
       "      <td>x</td>\n",
       "      <td>122.42</td>\n",
       "      <td>31.5</td>\n",
       "      <td>7.2</td>\n",
       "      <td>63.0</td>\n",
       "      <td>15.0152</td>\n",
       "      <td>119.8575</td>\n",
       "      <td>12.3344</td>\n",
       "      <td>186.8580</td>\n",
       "      <td>10.7208</td>\n",
       "      <td>193.8195</td>\n",
       "      <td>10.6096</td>\n",
       "      <td>175.7490</td>\n",
       "      <td>NaN</td>\n",
       "      <td>124.8030</td>\n",
       "      <td>13.8424</td>\n",
       "      <td>168.2625</td>\n",
       "      <td>m55</td>\n",
       "      <td>0</td>\n",
       "    </tr>\n",
       "    <tr>\n",
       "      <th>4</th>\n",
       "      <td>E</td>\n",
       "      <td>125.43</td>\n",
       "      <td>94.5</td>\n",
       "      <td>7.2</td>\n",
       "      <td>42.0</td>\n",
       "      <td>14.4176</td>\n",
       "      <td>135.4290</td>\n",
       "      <td>14.5824</td>\n",
       "      <td>187.8135</td>\n",
       "      <td>9.3088</td>\n",
       "      <td>203.1540</td>\n",
       "      <td>9.8280</td>\n",
       "      <td>172.7040</td>\n",
       "      <td>14.4720</td>\n",
       "      <td>120.2145</td>\n",
       "      <td>NaN</td>\n",
       "      <td>150.1185</td>\n",
       "      <td>m76</td>\n",
       "      <td>0</td>\n",
       "    </tr>\n",
       "  </tbody>\n",
       "</table>\n",
       "</div>"
      ],
      "text/plain": [
       "  pc      ld    m0    m1    m2       m3        m4       m5        m6       m7  \\\n",
       "0  y   83.71  63.0   7.2  52.5  14.0232  130.8300  12.4280  188.8425   8.9520   \n",
       "1  y  108.94  31.5  12.8  84.0  13.2840  128.8350  13.5256  183.0990   8.8520   \n",
       "2  E  169.65   0.0   5.6  73.5  14.5472  128.9295  13.6424  174.4680   8.9800   \n",
       "3  x  122.42  31.5   7.2  63.0  15.0152  119.8575  12.3344  186.8580  10.7208   \n",
       "4  E  125.43  94.5   7.2  42.0  14.4176  135.4290  14.5824  187.8135   9.3088   \n",
       "\n",
       "         m8       m9       m10      m11       m12      m13       m14   ma  \\\n",
       "0  201.1905   9.2896  141.9075  16.0968  150.3390  12.4880  173.1240  m78   \n",
       "1  207.2385   8.4704  154.7805  13.3304  101.0205  12.5096  131.4075  m78   \n",
       "2  190.3125  11.3056  156.7650      NaN  122.5350  11.7136  176.8200  m76   \n",
       "3  193.8195  10.6096  175.7490      NaN  124.8030  13.8424  168.2625  m55   \n",
       "4  203.1540   9.8280  172.7040  14.4720  120.2145      NaN  150.1185  m76   \n",
       "\n",
       "   pred  \n",
       "0     0  \n",
       "1     0  \n",
       "2     1  \n",
       "3     0  \n",
       "4     0  "
      ]
     },
     "execution_count": 4,
     "metadata": {},
     "output_type": "execute_result"
    }
   ],
   "source": [
    "df.head()"
   ]
  },
  {
   "cell_type": "code",
   "execution_count": 5,
   "id": "22f47907",
   "metadata": {},
   "outputs": [
    {
     "data": {
      "text/plain": [
       "pc         0\n",
       "ld       222\n",
       "m0         0\n",
       "m1         0\n",
       "m2         0\n",
       "m3       314\n",
       "m4       467\n",
       "m5       576\n",
       "m6       675\n",
       "m7       788\n",
       "m8       900\n",
       "m9      1047\n",
       "m10     1100\n",
       "m11     1227\n",
       "m12     1381\n",
       "m13     1499\n",
       "m14     1589\n",
       "ma         0\n",
       "pred       0\n",
       "dtype: int64"
      ]
     },
     "execution_count": 5,
     "metadata": {},
     "output_type": "execute_result"
    }
   ],
   "source": [
    "df.isnull().sum() #checking for existence and frequency of null values"
   ]
  },
  {
   "cell_type": "markdown",
   "id": "0d1868e3",
   "metadata": {},
   "source": [
    "OBSERVATION : The columns m0,m1 and m2 have no null values, so there will be no need of imputation for these columns"
   ]
  },
  {
   "cell_type": "markdown",
   "id": "9ef9ead6",
   "metadata": {},
   "source": [
    "Skew() tells us how normally distributed a feature is . If skew value ranges from -0.5 to 0.5 , then it has a low skew in which case we can replace the null values by median , otherwise for data with high skew values , median is preferred for imputation\n"
   ]
  },
  {
   "cell_type": "code",
   "execution_count": 6,
   "id": "eb99d776",
   "metadata": {},
   "outputs": [
    {
     "name": "stderr",
     "output_type": "stream",
     "text": [
      "C:\\Users\\harsh\\AppData\\Local\\Temp\\ipykernel_15372\\3527348084.py:1: FutureWarning: Dropping of nuisance columns in DataFrame reductions (with 'numeric_only=None') is deprecated; in a future version this will raise TypeError.  Select only valid columns before calling the reduction.\n",
      "  df.skew(axis = 0)\n"
     ]
    },
    {
     "data": {
      "text/plain": [
       "ld      0.947883\n",
       "m0      0.694593\n",
       "m1      0.476701\n",
       "m2      0.587808\n",
       "m3     -0.012681\n",
       "m4      0.014183\n",
       "m5      0.010545\n",
       "m6     -0.009473\n",
       "m7     -0.018630\n",
       "m8      0.016980\n",
       "m9     -0.009953\n",
       "m10    -0.035048\n",
       "m11    -0.094557\n",
       "m12    -0.056440\n",
       "m13     0.240490\n",
       "m14    -0.051753\n",
       "pred    1.381995\n",
       "dtype: float64"
      ]
     },
     "execution_count": 6,
     "metadata": {},
     "output_type": "execute_result"
    }
   ],
   "source": [
    "df.skew(axis = 0) "
   ]
  },
  {
   "cell_type": "markdown",
   "id": "7aa08f40",
   "metadata": {},
   "source": [
    "The \"ld\" column has high skew value , so we will use median but let's double check that using box plot"
   ]
  },
  {
   "cell_type": "code",
   "execution_count": 7,
   "id": "9f199a6f",
   "metadata": {},
   "outputs": [
    {
     "name": "stderr",
     "output_type": "stream",
     "text": [
      "C:\\Users\\harsh\\anaconda3\\lib\\site-packages\\seaborn\\_decorators.py:36: FutureWarning: Pass the following variable as a keyword arg: x. From version 0.12, the only valid positional argument will be `data`, and passing other arguments without an explicit keyword will result in an error or misinterpretation.\n",
      "  warnings.warn(\n"
     ]
    },
    {
     "data": {
      "text/plain": [
       "<AxesSubplot:xlabel='ld'>"
      ]
     },
     "execution_count": 7,
     "metadata": {},
     "output_type": "execute_result"
    },
    {
     "data": {
      "image/png": "[encoded data removed]",
      "text/plain": [
       "<Figure size 720x432 with 1 Axes>"
      ]
     },
     "metadata": {
      "needs_background": "light"
     },
     "output_type": "display_data"
    }
   ],
   "source": [
    "fig,ax = plt.subplots(figsize=(10,6))\n",
    "sns.boxplot(df.ld)"
   ]
  },
  {
   "cell_type": "markdown",
   "id": "aea193f8",
   "metadata": {},
   "source": [
    "Clearly , we can not use mean imputation as there are large number of outliers"
   ]
  },
  {
   "cell_type": "code",
   "execution_count": 8,
   "id": "d41bb671",
   "metadata": {},
   "outputs": [],
   "source": [
    "#ld column is heavily skewed as 0.95 > 0.5 so median imputation is preferred"
   ]
  },
  {
   "cell_type": "code",
   "execution_count": 9,
   "id": "f359a01c",
   "metadata": {},
   "outputs": [
    {
     "data": {
      "text/plain": [
       "0"
      ]
     },
     "execution_count": 9,
     "metadata": {},
     "output_type": "execute_result"
    }
   ],
   "source": [
    "med = df.ld.median()\n",
    "df.ld.fillna(med,inplace = True)\n",
    "df.ld.isnull().sum()"
   ]
  },
  {
   "cell_type": "markdown",
   "id": "701f78e3",
   "metadata": {},
   "source": [
    "The rest of the columns are not heavily skewed , so mean imputation works for all of them"
   ]
  },
  {
   "cell_type": "code",
   "execution_count": 10,
   "id": "64303221",
   "metadata": {},
   "outputs": [
    {
     "data": {
      "image/png": "[encoded data removed]",
      "text/plain": [
       "<Figure size 432x288 with 1 Axes>"
      ]
     },
     "metadata": {
      "needs_background": "light"
     },
     "output_type": "display_data"
    },
    {
     "data": {
      "image/png": "[encoded data removed]",
      "text/plain": [
       "<Figure size 432x288 with 1 Axes>"
      ]
     },
     "metadata": {
      "needs_background": "light"
     },
     "output_type": "display_data"
    },
    {
     "data": {
      "image/png": "[encoded data removed]",
      "text/plain": [
       "<Figure size 432x288 with 1 Axes>"
      ]
     },
     "metadata": {
      "needs_background": "light"
     },
     "output_type": "display_data"
    },
    {
     "data": {
      "image/png": "[encoded data removed]",
      "text/plain": [
       "<Figure size 432x288 with 1 Axes>"
      ]
     },
     "metadata": {
      "needs_background": "light"
     },
     "output_type": "display_data"
    },
    {
     "data": {
      "image/png": "[encoded data removed]",
      "text/plain": [
       "<Figure size 432x288 with 1 Axes>"
      ]
     },
     "metadata": {
      "needs_background": "light"
     },
     "output_type": "display_data"
    },
    {
     "data": {
      "image/png": "[encoded data removed]",
      "text/plain": [
       "<Figure size 432x288 with 1 Axes>"
      ]
     },
     "metadata": {
      "needs_background": "light"
     },
     "output_type": "display_data"
    },
    {
     "data": {
      "image/png": "[encoded data removed]",
      "text/plain": [
       "<Figure size 432x288 with 1 Axes>"
      ]
     },
     "metadata": {
      "needs_background": "light"
     },
     "output_type": "display_data"
    },
    {
     "data": {
      "image/png": "[encoded data removed]",
      "text/plain": [
       "<Figure size 432x288 with 1 Axes>"
      ]
     },
     "metadata": {
      "needs_background": "light"
     },
     "output_type": "display_data"
    },
    {
     "data": {
      "image/png": "[encoded data removed]",
      "text/plain": [
       "<Figure size 432x288 with 1 Axes>"
      ]
     },
     "metadata": {
      "needs_background": "light"
     },
     "output_type": "display_data"
    },
    {
     "data": {
      "image/png": "[encoded data removed]",
      "text/plain": [
       "<Figure size 432x288 with 1 Axes>"
      ]
     },
     "metadata": {
      "needs_background": "light"
     },
     "output_type": "display_data"
    },
    {
     "data": {
      "image/png": "[encoded data removed]",
      "text/plain": [
       "<Figure size 432x288 with 1 Axes>"
      ]
     },
     "metadata": {
      "needs_background": "light"
     },
     "output_type": "display_data"
    },
    {
     "data": {
      "image/png": "[encoded data removed]",
      "text/plain": [
       "<Figure size 432x288 with 1 Axes>"
      ]
     },
     "metadata": {
      "needs_background": "light"
     },
     "output_type": "display_data"
    }
   ],
   "source": [
    "#Visualising that these columns are normally distributed\n",
    "\n",
    "# Select the columns from 'm3' to 'm14'\n",
    "columns = ['m3', 'm4', 'm5', 'm6', 'm7', 'm8', 'm9', 'm10', 'm11', 'm12', 'm13', 'm14']\n",
    "\n",
    "# Iterate over each column and plot individual histograms\n",
    "for column in columns:\n",
    "\n",
    "    sns.histplot(data=df[column], bins='auto', kde=True)\n",
    "    plt.xlabel('Values')\n",
    "    plt.ylabel('Frequency')\n",
    "    plt.title(f'Histogram of {column}')\n",
    "    plt.show()"
   ]
  },
  {
   "cell_type": "code",
   "execution_count": 11,
   "id": "81a81e71",
   "metadata": {},
   "outputs": [
    {
     "data": {
      "text/plain": [
       "pc      0\n",
       "ld      0\n",
       "m0      0\n",
       "m1      0\n",
       "m2      0\n",
       "m3      0\n",
       "m4      0\n",
       "m5      0\n",
       "m6      0\n",
       "m7      0\n",
       "m8      0\n",
       "m9      0\n",
       "m10     0\n",
       "m11     0\n",
       "m12     0\n",
       "m13     0\n",
       "m14     0\n",
       "ma      0\n",
       "pred    0\n",
       "dtype: int64"
      ]
     },
     "execution_count": 11,
     "metadata": {},
     "output_type": "execute_result"
    }
   ],
   "source": [
    "columns_to_fill = ['m3', 'm4', 'm5', 'm6', 'm7', 'm8', 'm9', 'm10', 'm11', 'm12', 'm13', 'm14']\n",
    "\n",
    "# Fill NaN values with column means\n",
    "df[columns_to_fill] = df[columns_to_fill].fillna(df[columns_to_fill].mean())\n",
    "df.isnull().sum()"
   ]
  },
  {
   "cell_type": "markdown",
   "id": "df72bfaa",
   "metadata": {},
   "source": [
    "# All null values successfully removed"
   ]
  },
  {
   "cell_type": "markdown",
   "id": "f5ceca98",
   "metadata": {},
   "source": [
    "Now , the two categorical columns 'pc' and 'ma' need to be encoded here as only numerical data can be modelled in this case where I am using XGBoost model"
   ]
  },
  {
   "cell_type": "code",
   "execution_count": 12,
   "id": "bf86c433",
   "metadata": {},
   "outputs": [
    {
     "data": {
      "text/html": [
       "<div>\n",
       "<style scoped>\n",
       "    .dataframe tbody tr th:only-of-type {\n",
       "        vertical-align: middle;\n",
       "    }\n",
       "\n",
       "    .dataframe tbody tr th {\n",
       "        vertical-align: top;\n",
       "    }\n",
       "\n",
       "    .dataframe thead th {\n",
       "        text-align: right;\n",
       "    }\n",
       "</style>\n",
       "<table border=\"1\" class=\"dataframe\">\n",
       "  <thead>\n",
       "    <tr style=\"text-align: right;\">\n",
       "      <th></th>\n",
       "      <th>ld</th>\n",
       "      <th>m0</th>\n",
       "      <th>m1</th>\n",
       "      <th>m2</th>\n",
       "      <th>m3</th>\n",
       "      <th>m4</th>\n",
       "      <th>m5</th>\n",
       "      <th>m6</th>\n",
       "      <th>m7</th>\n",
       "      <th>m8</th>\n",
       "      <th>...</th>\n",
       "      <th>pred</th>\n",
       "      <th>pc_E</th>\n",
       "      <th>pc_w</th>\n",
       "      <th>pc_x</th>\n",
       "      <th>pc_y</th>\n",
       "      <th>pc_z</th>\n",
       "      <th>ma_m55</th>\n",
       "      <th>ma_m75</th>\n",
       "      <th>ma_m76</th>\n",
       "      <th>ma_m78</th>\n",
       "    </tr>\n",
       "  </thead>\n",
       "  <tbody>\n",
       "    <tr>\n",
       "      <th>0</th>\n",
       "      <td>83.71</td>\n",
       "      <td>63.0</td>\n",
       "      <td>7.2</td>\n",
       "      <td>52.5</td>\n",
       "      <td>14.0232</td>\n",
       "      <td>130.8300</td>\n",
       "      <td>12.4280</td>\n",
       "      <td>188.8425</td>\n",
       "      <td>8.9520</td>\n",
       "      <td>201.1905</td>\n",
       "      <td>...</td>\n",
       "      <td>0</td>\n",
       "      <td>0</td>\n",
       "      <td>0</td>\n",
       "      <td>0</td>\n",
       "      <td>1</td>\n",
       "      <td>0</td>\n",
       "      <td>0</td>\n",
       "      <td>0</td>\n",
       "      <td>0</td>\n",
       "      <td>1</td>\n",
       "    </tr>\n",
       "    <tr>\n",
       "      <th>1</th>\n",
       "      <td>108.94</td>\n",
       "      <td>31.5</td>\n",
       "      <td>12.8</td>\n",
       "      <td>84.0</td>\n",
       "      <td>13.2840</td>\n",
       "      <td>128.8350</td>\n",
       "      <td>13.5256</td>\n",
       "      <td>183.0990</td>\n",
       "      <td>8.8520</td>\n",
       "      <td>207.2385</td>\n",
       "      <td>...</td>\n",
       "      <td>0</td>\n",
       "      <td>0</td>\n",
       "      <td>0</td>\n",
       "      <td>0</td>\n",
       "      <td>1</td>\n",
       "      <td>0</td>\n",
       "      <td>0</td>\n",
       "      <td>0</td>\n",
       "      <td>0</td>\n",
       "      <td>1</td>\n",
       "    </tr>\n",
       "    <tr>\n",
       "      <th>2</th>\n",
       "      <td>169.65</td>\n",
       "      <td>0.0</td>\n",
       "      <td>5.6</td>\n",
       "      <td>73.5</td>\n",
       "      <td>14.5472</td>\n",
       "      <td>128.9295</td>\n",
       "      <td>13.6424</td>\n",
       "      <td>174.4680</td>\n",
       "      <td>8.9800</td>\n",
       "      <td>190.3125</td>\n",
       "      <td>...</td>\n",
       "      <td>1</td>\n",
       "      <td>1</td>\n",
       "      <td>0</td>\n",
       "      <td>0</td>\n",
       "      <td>0</td>\n",
       "      <td>0</td>\n",
       "      <td>0</td>\n",
       "      <td>0</td>\n",
       "      <td>1</td>\n",
       "      <td>0</td>\n",
       "    </tr>\n",
       "    <tr>\n",
       "      <th>3</th>\n",
       "      <td>122.42</td>\n",
       "      <td>31.5</td>\n",
       "      <td>7.2</td>\n",
       "      <td>63.0</td>\n",
       "      <td>15.0152</td>\n",
       "      <td>119.8575</td>\n",
       "      <td>12.3344</td>\n",
       "      <td>186.8580</td>\n",
       "      <td>10.7208</td>\n",
       "      <td>193.8195</td>\n",
       "      <td>...</td>\n",
       "      <td>0</td>\n",
       "      <td>0</td>\n",
       "      <td>0</td>\n",
       "      <td>1</td>\n",
       "      <td>0</td>\n",
       "      <td>0</td>\n",
       "      <td>1</td>\n",
       "      <td>0</td>\n",
       "      <td>0</td>\n",
       "      <td>0</td>\n",
       "    </tr>\n",
       "    <tr>\n",
       "      <th>4</th>\n",
       "      <td>125.43</td>\n",
       "      <td>94.5</td>\n",
       "      <td>7.2</td>\n",
       "      <td>42.0</td>\n",
       "      <td>14.4176</td>\n",
       "      <td>135.4290</td>\n",
       "      <td>14.5824</td>\n",
       "      <td>187.8135</td>\n",
       "      <td>9.3088</td>\n",
       "      <td>203.1540</td>\n",
       "      <td>...</td>\n",
       "      <td>0</td>\n",
       "      <td>1</td>\n",
       "      <td>0</td>\n",
       "      <td>0</td>\n",
       "      <td>0</td>\n",
       "      <td>0</td>\n",
       "      <td>0</td>\n",
       "      <td>0</td>\n",
       "      <td>1</td>\n",
       "      <td>0</td>\n",
       "    </tr>\n",
       "  </tbody>\n",
       "</table>\n",
       "<p>5 rows × 26 columns</p>\n",
       "</div>"
      ],
      "text/plain": [
       "       ld    m0    m1    m2       m3        m4       m5        m6       m7  \\\n",
       "0   83.71  63.0   7.2  52.5  14.0232  130.8300  12.4280  188.8425   8.9520   \n",
       "1  108.94  31.5  12.8  84.0  13.2840  128.8350  13.5256  183.0990   8.8520   \n",
       "2  169.65   0.0   5.6  73.5  14.5472  128.9295  13.6424  174.4680   8.9800   \n",
       "3  122.42  31.5   7.2  63.0  15.0152  119.8575  12.3344  186.8580  10.7208   \n",
       "4  125.43  94.5   7.2  42.0  14.4176  135.4290  14.5824  187.8135   9.3088   \n",
       "\n",
       "         m8  ...  pred  pc_E  pc_w  pc_x  pc_y  pc_z  ma_m55  ma_m75  ma_m76  \\\n",
       "0  201.1905  ...     0     0     0     0     1     0       0       0       0   \n",
       "1  207.2385  ...     0     0     0     0     1     0       0       0       0   \n",
       "2  190.3125  ...     1     1     0     0     0     0       0       0       1   \n",
       "3  193.8195  ...     0     0     0     1     0     0       1       0       0   \n",
       "4  203.1540  ...     0     1     0     0     0     0       0       0       1   \n",
       "\n",
       "   ma_m78  \n",
       "0       1  \n",
       "1       1  \n",
       "2       0  \n",
       "3       0  \n",
       "4       0  \n",
       "\n",
       "[5 rows x 26 columns]"
      ]
     },
     "execution_count": 12,
     "metadata": {},
     "output_type": "execute_result"
    }
   ],
   "source": [
    "df = pd.get_dummies(df,columns = ['pc','ma'],prefix = ['pc','ma'])\n",
    "df.head()"
   ]
  },
  {
   "cell_type": "markdown",
   "id": "6b6e6c6f",
   "metadata": {},
   "source": [
    "# Feature Scaling can significantly increase accuracy of model but since it is XGBoost which is almost insesitive to feature scaling , we are scaling only the \"ld\" column , not all of them"
   ]
  },
  {
   "cell_type": "code",
   "execution_count": 13,
   "id": "37358349",
   "metadata": {},
   "outputs": [],
   "source": [
    "from sklearn.preprocessing import MinMaxScaler\n",
    "scaler = MinMaxScaler()\n",
    "\n",
    "ld_column = df['ld'].values.reshape(-1, 1)\n",
    "\n",
    "# Apply min-max scaling\n",
    "scaled_ld = scaler.fit_transform(ld_column)\n",
    "\n",
    "# Update the 'ld' column in the DataFrame with the scaled values\n",
    "df['ld'] = scaled_ld"
   ]
  },
  {
   "cell_type": "markdown",
   "id": "ae1ce0cc",
   "metadata": {},
   "source": [
    "After building the model , feature_importance suggests that these 3 are the least relevant columns , thus dropping them here before training itself "
   ]
  },
  {
   "cell_type": "code",
   "execution_count": 14,
   "id": "b93866be",
   "metadata": {},
   "outputs": [],
   "source": [
    "df = df.drop(['m0','m1','m2','m12'],axis = 1)"
   ]
  },
  {
   "cell_type": "markdown",
   "id": "0d720205",
   "metadata": {},
   "source": [
    "Defining the data(X) and target(Y) columns "
   ]
  },
  {
   "cell_type": "code",
   "execution_count": 15,
   "id": "c0e9cee5",
   "metadata": {},
   "outputs": [],
   "source": [
    "X = df.drop('pred',axis = 1)\n",
    "y = df.pred"
   ]
  },
  {
   "cell_type": "markdown",
   "id": "8ef1f853",
   "metadata": {},
   "source": [
    "Splitting the data into training and testing set to build the model "
   ]
  },
  {
   "cell_type": "code",
   "execution_count": 16,
   "id": "8014cdd0",
   "metadata": {},
   "outputs": [],
   "source": [
    "from sklearn.model_selection import train_test_split\n",
    "\n",
    "X_train , X_test,y_train,y_test = train_test_split(X,y,test_size=0.2,random_state = 10)"
   ]
  },
  {
   "cell_type": "markdown",
   "id": "6a01d5b0",
   "metadata": {},
   "source": [
    "# Now importing test data\n"
   ]
  },
  {
   "cell_type": "code",
   "execution_count": 17,
   "id": "986aeef2",
   "metadata": {},
   "outputs": [],
   "source": [
    "new_data = pd.read_csv(\"Test_Data.csv\")"
   ]
  },
  {
   "cell_type": "code",
   "execution_count": 18,
   "id": "75bde713",
   "metadata": {},
   "outputs": [
    {
     "data": {
      "text/html": [
       "<div>\n",
       "<style scoped>\n",
       "    .dataframe tbody tr th:only-of-type {\n",
       "        vertical-align: middle;\n",
       "    }\n",
       "\n",
       "    .dataframe tbody tr th {\n",
       "        vertical-align: top;\n",
       "    }\n",
       "\n",
       "    .dataframe thead th {\n",
       "        text-align: right;\n",
       "    }\n",
       "</style>\n",
       "<table border=\"1\" class=\"dataframe\">\n",
       "  <thead>\n",
       "    <tr style=\"text-align: right;\">\n",
       "      <th></th>\n",
       "      <th>index</th>\n",
       "      <th>pc</th>\n",
       "      <th>ld</th>\n",
       "      <th>m0</th>\n",
       "      <th>m1</th>\n",
       "      <th>m2</th>\n",
       "      <th>m3</th>\n",
       "      <th>m4</th>\n",
       "      <th>m5</th>\n",
       "      <th>m6</th>\n",
       "      <th>m7</th>\n",
       "      <th>m8</th>\n",
       "      <th>m9</th>\n",
       "      <th>m10</th>\n",
       "      <th>m11</th>\n",
       "      <th>m12</th>\n",
       "      <th>m13</th>\n",
       "      <th>m14</th>\n",
       "      <th>ma</th>\n",
       "    </tr>\n",
       "  </thead>\n",
       "  <tbody>\n",
       "    <tr>\n",
       "      <th>0</th>\n",
       "      <td>0</td>\n",
       "      <td>E</td>\n",
       "      <td>156.46</td>\n",
       "      <td>73.5</td>\n",
       "      <td>8.8</td>\n",
       "      <td>105.0</td>\n",
       "      <td>13.2768</td>\n",
       "      <td>113.5365</td>\n",
       "      <td>13.9552</td>\n",
       "      <td>168.5460</td>\n",
       "      <td>8.5896</td>\n",
       "      <td>187.6560</td>\n",
       "      <td>8.3472</td>\n",
       "      <td>178.5945</td>\n",
       "      <td>14.3192</td>\n",
       "      <td>138.0435</td>\n",
       "      <td>12.7008</td>\n",
       "      <td>166.1100</td>\n",
       "      <td>m76</td>\n",
       "    </tr>\n",
       "    <tr>\n",
       "      <th>1</th>\n",
       "      <td>1</td>\n",
       "      <td>y</td>\n",
       "      <td>58.87</td>\n",
       "      <td>84.0</td>\n",
       "      <td>12.8</td>\n",
       "      <td>42.0</td>\n",
       "      <td>14.4440</td>\n",
       "      <td>126.6930</td>\n",
       "      <td>13.6688</td>\n",
       "      <td>190.6275</td>\n",
       "      <td>10.1712</td>\n",
       "      <td>202.5870</td>\n",
       "      <td>8.5416</td>\n",
       "      <td>166.9815</td>\n",
       "      <td>15.5944</td>\n",
       "      <td>142.5690</td>\n",
       "      <td>11.6832</td>\n",
       "      <td>177.7230</td>\n",
       "      <td>m78</td>\n",
       "    </tr>\n",
       "    <tr>\n",
       "      <th>2</th>\n",
       "      <td>2</td>\n",
       "      <td>w</td>\n",
       "      <td>139.68</td>\n",
       "      <td>126.0</td>\n",
       "      <td>3.2</td>\n",
       "      <td>73.5</td>\n",
       "      <td>14.2432</td>\n",
       "      <td>107.4885</td>\n",
       "      <td>13.8544</td>\n",
       "      <td>168.3255</td>\n",
       "      <td>10.2504</td>\n",
       "      <td>214.2735</td>\n",
       "      <td>11.3392</td>\n",
       "      <td>155.1795</td>\n",
       "      <td>16.0256</td>\n",
       "      <td>132.1005</td>\n",
       "      <td>13.0104</td>\n",
       "      <td>185.6085</td>\n",
       "      <td>m78</td>\n",
       "    </tr>\n",
       "    <tr>\n",
       "      <th>3</th>\n",
       "      <td>3</td>\n",
       "      <td>z</td>\n",
       "      <td>194.06</td>\n",
       "      <td>52.5</td>\n",
       "      <td>6.4</td>\n",
       "      <td>105.0</td>\n",
       "      <td>14.5480</td>\n",
       "      <td>138.6105</td>\n",
       "      <td>13.5080</td>\n",
       "      <td>196.6545</td>\n",
       "      <td>10.6304</td>\n",
       "      <td>213.4650</td>\n",
       "      <td>9.9224</td>\n",
       "      <td>191.1000</td>\n",
       "      <td>14.8256</td>\n",
       "      <td>128.0475</td>\n",
       "      <td>12.1984</td>\n",
       "      <td>180.2745</td>\n",
       "      <td>m75</td>\n",
       "    </tr>\n",
       "    <tr>\n",
       "      <th>4</th>\n",
       "      <td>4</td>\n",
       "      <td>x</td>\n",
       "      <td>173.14</td>\n",
       "      <td>42.0</td>\n",
       "      <td>8.0</td>\n",
       "      <td>136.5</td>\n",
       "      <td>14.9496</td>\n",
       "      <td>103.8765</td>\n",
       "      <td>13.8936</td>\n",
       "      <td>168.3570</td>\n",
       "      <td>9.6184</td>\n",
       "      <td>191.2050</td>\n",
       "      <td>9.9400</td>\n",
       "      <td>185.0310</td>\n",
       "      <td>13.8664</td>\n",
       "      <td>124.7610</td>\n",
       "      <td>NaN</td>\n",
       "      <td>157.6470</td>\n",
       "      <td>m55</td>\n",
       "    </tr>\n",
       "  </tbody>\n",
       "</table>\n",
       "</div>"
      ],
      "text/plain": [
       "   index pc      ld     m0    m1     m2       m3        m4       m5        m6  \\\n",
       "0      0  E  156.46   73.5   8.8  105.0  13.2768  113.5365  13.9552  168.5460   \n",
       "1      1  y   58.87   84.0  12.8   42.0  14.4440  126.6930  13.6688  190.6275   \n",
       "2      2  w  139.68  126.0   3.2   73.5  14.2432  107.4885  13.8544  168.3255   \n",
       "3      3  z  194.06   52.5   6.4  105.0  14.5480  138.6105  13.5080  196.6545   \n",
       "4      4  x  173.14   42.0   8.0  136.5  14.9496  103.8765  13.8936  168.3570   \n",
       "\n",
       "        m7        m8       m9       m10      m11       m12      m13       m14  \\\n",
       "0   8.5896  187.6560   8.3472  178.5945  14.3192  138.0435  12.7008  166.1100   \n",
       "1  10.1712  202.5870   8.5416  166.9815  15.5944  142.5690  11.6832  177.7230   \n",
       "2  10.2504  214.2735  11.3392  155.1795  16.0256  132.1005  13.0104  185.6085   \n",
       "3  10.6304  213.4650   9.9224  191.1000  14.8256  128.0475  12.1984  180.2745   \n",
       "4   9.6184  191.2050   9.9400  185.0310  13.8664  124.7610      NaN  157.6470   \n",
       "\n",
       "    ma  \n",
       "0  m76  \n",
       "1  m78  \n",
       "2  m78  \n",
       "3  m75  \n",
       "4  m55  "
      ]
     },
     "execution_count": 18,
     "metadata": {},
     "output_type": "execute_result"
    }
   ],
   "source": [
    "new_data.head()"
   ]
  },
  {
   "cell_type": "markdown",
   "id": "6941dacd",
   "metadata": {},
   "source": [
    "# Cleaning the test data exactly the same way as training data"
   ]
  },
  {
   "cell_type": "code",
   "execution_count": 19,
   "id": "9ecdd40c",
   "metadata": {},
   "outputs": [
    {
     "name": "stderr",
     "output_type": "stream",
     "text": [
      "C:\\Users\\harsh\\AppData\\Local\\Temp\\ipykernel_15372\\1401083288.py:1: FutureWarning: Dropping of nuisance columns in DataFrame reductions (with 'numeric_only=None') is deprecated; in a future version this will raise TypeError.  Select only valid columns before calling the reduction.\n",
      "  new_data.skew(axis = 0)\n"
     ]
    },
    {
     "data": {
      "text/plain": [
       "index    0.000000\n",
       "ld       1.008613\n",
       "m0       0.770973\n",
       "m1       0.474708\n",
       "m2       0.617869\n",
       "m3       0.060764\n",
       "m4      -0.036484\n",
       "m5       0.028876\n",
       "m6      -0.012267\n",
       "m7      -0.018647\n",
       "m8       0.006886\n",
       "m9       0.035564\n",
       "m10     -0.007866\n",
       "m11     -0.169240\n",
       "m12     -0.034884\n",
       "m13      0.218457\n",
       "m14     -0.089538\n",
       "dtype: float64"
      ]
     },
     "execution_count": 19,
     "metadata": {},
     "output_type": "execute_result"
    }
   ],
   "source": [
    "new_data.skew(axis = 0)"
   ]
  },
  {
   "cell_type": "code",
   "execution_count": 20,
   "id": "61cfcaed",
   "metadata": {},
   "outputs": [
    {
     "data": {
      "text/plain": [
       "index     0\n",
       "pc        0\n",
       "ld       28\n",
       "m0        0\n",
       "m1        0\n",
       "m2        0\n",
       "m3        0\n",
       "m4        0\n",
       "m5        0\n",
       "m6        0\n",
       "m7        0\n",
       "m8        0\n",
       "m9        0\n",
       "m10       0\n",
       "m11       0\n",
       "m12       0\n",
       "m13       0\n",
       "m14       0\n",
       "ma        0\n",
       "dtype: int64"
      ]
     },
     "execution_count": 20,
     "metadata": {},
     "output_type": "execute_result"
    }
   ],
   "source": [
    "# Assuming your DataFrame is called 'df4'\n",
    "columns_to_fill = ['m3', 'm4', 'm5', 'm6', 'm7', 'm8', 'm9', 'm10', 'm11', 'm12', 'm13', 'm14']\n",
    "\n",
    "# Fill NaN values with column means\n",
    "new_data[columns_to_fill] = new_data[columns_to_fill].fillna(new_data[columns_to_fill].mean())\n",
    "new_data.isnull().sum()"
   ]
  },
  {
   "cell_type": "code",
   "execution_count": 21,
   "id": "bdf94b76",
   "metadata": {},
   "outputs": [
    {
     "data": {
      "text/html": [
       "<div>\n",
       "<style scoped>\n",
       "    .dataframe tbody tr th:only-of-type {\n",
       "        vertical-align: middle;\n",
       "    }\n",
       "\n",
       "    .dataframe tbody tr th {\n",
       "        vertical-align: top;\n",
       "    }\n",
       "\n",
       "    .dataframe thead th {\n",
       "        text-align: right;\n",
       "    }\n",
       "</style>\n",
       "<table border=\"1\" class=\"dataframe\">\n",
       "  <thead>\n",
       "    <tr style=\"text-align: right;\">\n",
       "      <th></th>\n",
       "      <th>index</th>\n",
       "      <th>ld</th>\n",
       "      <th>m0</th>\n",
       "      <th>m1</th>\n",
       "      <th>m2</th>\n",
       "      <th>m3</th>\n",
       "      <th>m4</th>\n",
       "      <th>m5</th>\n",
       "      <th>m6</th>\n",
       "      <th>m7</th>\n",
       "      <th>...</th>\n",
       "      <th>m14</th>\n",
       "      <th>pc_E</th>\n",
       "      <th>pc_w</th>\n",
       "      <th>pc_x</th>\n",
       "      <th>pc_y</th>\n",
       "      <th>pc_z</th>\n",
       "      <th>ma_m55</th>\n",
       "      <th>ma_m75</th>\n",
       "      <th>ma_m76</th>\n",
       "      <th>ma_m78</th>\n",
       "    </tr>\n",
       "  </thead>\n",
       "  <tbody>\n",
       "    <tr>\n",
       "      <th>0</th>\n",
       "      <td>0</td>\n",
       "      <td>156.46</td>\n",
       "      <td>73.5</td>\n",
       "      <td>8.8</td>\n",
       "      <td>105.0</td>\n",
       "      <td>13.2768</td>\n",
       "      <td>113.5365</td>\n",
       "      <td>13.9552</td>\n",
       "      <td>168.5460</td>\n",
       "      <td>8.5896</td>\n",
       "      <td>...</td>\n",
       "      <td>166.1100</td>\n",
       "      <td>1</td>\n",
       "      <td>0</td>\n",
       "      <td>0</td>\n",
       "      <td>0</td>\n",
       "      <td>0</td>\n",
       "      <td>0</td>\n",
       "      <td>0</td>\n",
       "      <td>1</td>\n",
       "      <td>0</td>\n",
       "    </tr>\n",
       "    <tr>\n",
       "      <th>1</th>\n",
       "      <td>1</td>\n",
       "      <td>58.87</td>\n",
       "      <td>84.0</td>\n",
       "      <td>12.8</td>\n",
       "      <td>42.0</td>\n",
       "      <td>14.4440</td>\n",
       "      <td>126.6930</td>\n",
       "      <td>13.6688</td>\n",
       "      <td>190.6275</td>\n",
       "      <td>10.1712</td>\n",
       "      <td>...</td>\n",
       "      <td>177.7230</td>\n",
       "      <td>0</td>\n",
       "      <td>0</td>\n",
       "      <td>0</td>\n",
       "      <td>1</td>\n",
       "      <td>0</td>\n",
       "      <td>0</td>\n",
       "      <td>0</td>\n",
       "      <td>0</td>\n",
       "      <td>1</td>\n",
       "    </tr>\n",
       "    <tr>\n",
       "      <th>2</th>\n",
       "      <td>2</td>\n",
       "      <td>139.68</td>\n",
       "      <td>126.0</td>\n",
       "      <td>3.2</td>\n",
       "      <td>73.5</td>\n",
       "      <td>14.2432</td>\n",
       "      <td>107.4885</td>\n",
       "      <td>13.8544</td>\n",
       "      <td>168.3255</td>\n",
       "      <td>10.2504</td>\n",
       "      <td>...</td>\n",
       "      <td>185.6085</td>\n",
       "      <td>0</td>\n",
       "      <td>1</td>\n",
       "      <td>0</td>\n",
       "      <td>0</td>\n",
       "      <td>0</td>\n",
       "      <td>0</td>\n",
       "      <td>0</td>\n",
       "      <td>0</td>\n",
       "      <td>1</td>\n",
       "    </tr>\n",
       "    <tr>\n",
       "      <th>3</th>\n",
       "      <td>3</td>\n",
       "      <td>194.06</td>\n",
       "      <td>52.5</td>\n",
       "      <td>6.4</td>\n",
       "      <td>105.0</td>\n",
       "      <td>14.5480</td>\n",
       "      <td>138.6105</td>\n",
       "      <td>13.5080</td>\n",
       "      <td>196.6545</td>\n",
       "      <td>10.6304</td>\n",
       "      <td>...</td>\n",
       "      <td>180.2745</td>\n",
       "      <td>0</td>\n",
       "      <td>0</td>\n",
       "      <td>0</td>\n",
       "      <td>0</td>\n",
       "      <td>1</td>\n",
       "      <td>0</td>\n",
       "      <td>1</td>\n",
       "      <td>0</td>\n",
       "      <td>0</td>\n",
       "    </tr>\n",
       "    <tr>\n",
       "      <th>4</th>\n",
       "      <td>4</td>\n",
       "      <td>173.14</td>\n",
       "      <td>42.0</td>\n",
       "      <td>8.0</td>\n",
       "      <td>136.5</td>\n",
       "      <td>14.9496</td>\n",
       "      <td>103.8765</td>\n",
       "      <td>13.8936</td>\n",
       "      <td>168.3570</td>\n",
       "      <td>9.6184</td>\n",
       "      <td>...</td>\n",
       "      <td>157.6470</td>\n",
       "      <td>0</td>\n",
       "      <td>0</td>\n",
       "      <td>1</td>\n",
       "      <td>0</td>\n",
       "      <td>0</td>\n",
       "      <td>1</td>\n",
       "      <td>0</td>\n",
       "      <td>0</td>\n",
       "      <td>0</td>\n",
       "    </tr>\n",
       "  </tbody>\n",
       "</table>\n",
       "<p>5 rows × 26 columns</p>\n",
       "</div>"
      ],
      "text/plain": [
       "   index      ld     m0    m1     m2       m3        m4       m5        m6  \\\n",
       "0      0  156.46   73.5   8.8  105.0  13.2768  113.5365  13.9552  168.5460   \n",
       "1      1   58.87   84.0  12.8   42.0  14.4440  126.6930  13.6688  190.6275   \n",
       "2      2  139.68  126.0   3.2   73.5  14.2432  107.4885  13.8544  168.3255   \n",
       "3      3  194.06   52.5   6.4  105.0  14.5480  138.6105  13.5080  196.6545   \n",
       "4      4  173.14   42.0   8.0  136.5  14.9496  103.8765  13.8936  168.3570   \n",
       "\n",
       "        m7  ...       m14  pc_E  pc_w  pc_x  pc_y  pc_z  ma_m55  ma_m75  \\\n",
       "0   8.5896  ...  166.1100     1     0     0     0     0       0       0   \n",
       "1  10.1712  ...  177.7230     0     0     0     1     0       0       0   \n",
       "2  10.2504  ...  185.6085     0     1     0     0     0       0       0   \n",
       "3  10.6304  ...  180.2745     0     0     0     0     1       0       1   \n",
       "4   9.6184  ...  157.6470     0     0     1     0     0       1       0   \n",
       "\n",
       "   ma_m76  ma_m78  \n",
       "0       1       0  \n",
       "1       0       1  \n",
       "2       0       1  \n",
       "3       0       0  \n",
       "4       0       0  \n",
       "\n",
       "[5 rows x 26 columns]"
      ]
     },
     "execution_count": 21,
     "metadata": {},
     "output_type": "execute_result"
    }
   ],
   "source": [
    "new_data = pd.get_dummies(new_data,columns = ['pc','ma'],prefix = ['pc','ma'])\n",
    "new_data.head()"
   ]
  },
  {
   "cell_type": "code",
   "execution_count": 22,
   "id": "104091d9",
   "metadata": {},
   "outputs": [
    {
     "data": {
      "text/plain": [
       "0"
      ]
     },
     "execution_count": 22,
     "metadata": {},
     "output_type": "execute_result"
    }
   ],
   "source": [
    "med_n = new_data.ld.median()\n",
    "new_data.ld.fillna(med,inplace = True)\n",
    "new_data.ld.isnull().sum()"
   ]
  },
  {
   "cell_type": "code",
   "execution_count": 23,
   "id": "12d0bbaa",
   "metadata": {},
   "outputs": [
    {
     "data": {
      "text/plain": [
       "Index(['index', 'ld', 'm0', 'm1', 'm2', 'm3', 'm4', 'm5', 'm6', 'm7', 'm8',\n",
       "       'm9', 'm10', 'm11', 'm12', 'm13', 'm14', 'pc_E', 'pc_w', 'pc_x', 'pc_y',\n",
       "       'pc_z', 'ma_m55', 'ma_m75', 'ma_m76', 'ma_m78'],\n",
       "      dtype='object')"
      ]
     },
     "execution_count": 23,
     "metadata": {},
     "output_type": "execute_result"
    }
   ],
   "source": [
    "new_data.columns"
   ]
  },
  {
   "cell_type": "markdown",
   "id": "545dc51a",
   "metadata": {},
   "source": [
    "# TEST DATA CLEANING OVER "
   ]
  },
  {
   "cell_type": "markdown",
   "id": "74f52658",
   "metadata": {},
   "source": [
    "Now , we build our model . Since it is a binary classification problem , we use a classifier - XGBClassifier"
   ]
  },
  {
   "cell_type": "code",
   "execution_count": 24,
   "id": "5a801df9",
   "metadata": {},
   "outputs": [],
   "source": [
    "from xgboost import XGBClassifier\n",
    "\n",
    "# Create an XGBoost classifier with L1 regularization\n",
    "xgb_clf = XGBClassifier(reg_alpha=2.0, objective='binary:logistic',n_estimators = 300)\n",
    "\n",
    "# Train the classifier\n",
    "xgb_clf.fit(X_train, y_train)\n",
    "\n",
    "# Make predictions\n",
    "pred = xgb_clf.predict(X_test)"
   ]
  },
  {
   "cell_type": "markdown",
   "id": "5fe7c61c",
   "metadata": {},
   "source": [
    "The next two cells were operated before dropping the columns m0,m1,m2 and m12 , so the results below are different .For better understanding , run these two cells before dropping the columns"
   ]
  },
  {
   "cell_type": "code",
   "execution_count": 25,
   "id": "1244e58f",
   "metadata": {
    "scrolled": true
   },
   "outputs": [
    {
     "data": {
      "image/png": "[encoded data removed]",
      "text/plain": [
       "<Figure size 720x432 with 1 Axes>"
      ]
     },
     "metadata": {
      "needs_background": "light"
     },
     "output_type": "display_data"
    }
   ],
   "source": [
    "importance = xgb_clf.feature_importances_\n",
    "feature_names = X_train.columns\n",
    "\n",
    "# Create a DataFrame to store feature importance\n",
    "feature_importance_df = pd.DataFrame({'Feature': feature_names, 'Importance': importance})\n",
    "\n",
    "# Sort the features by importance in descending order\n",
    "feature_importance_df = feature_importance_df.sort_values('Importance', ascending=False)\n",
    "\n",
    "# Plot feature importance\n",
    "plt.figure(figsize=(10, 6))\n",
    "plt.barh(feature_importance_df['Feature'], feature_importance_df['Importance'])\n",
    "plt.xlabel('Importance')\n",
    "plt.ylabel('Feature')\n",
    "plt.title('Feature Importance')\n",
    "plt.show()"
   ]
  },
  {
   "cell_type": "code",
   "execution_count": 26,
   "id": "f7b1c2a3",
   "metadata": {},
   "outputs": [
    {
     "data": {
      "text/html": [
       "<div>\n",
       "<style scoped>\n",
       "    .dataframe tbody tr th:only-of-type {\n",
       "        vertical-align: middle;\n",
       "    }\n",
       "\n",
       "    .dataframe tbody tr th {\n",
       "        vertical-align: top;\n",
       "    }\n",
       "\n",
       "    .dataframe thead th {\n",
       "        text-align: right;\n",
       "    }\n",
       "</style>\n",
       "<table border=\"1\" class=\"dataframe\">\n",
       "  <thead>\n",
       "    <tr style=\"text-align: right;\">\n",
       "      <th></th>\n",
       "      <th>Feature</th>\n",
       "      <th>Importance</th>\n",
       "    </tr>\n",
       "  </thead>\n",
       "  <tbody>\n",
       "    <tr>\n",
       "      <th>0</th>\n",
       "      <td>ld</td>\n",
       "      <td>0.071495</td>\n",
       "    </tr>\n",
       "    <tr>\n",
       "      <th>3</th>\n",
       "      <td>m5</td>\n",
       "      <td>0.058476</td>\n",
       "    </tr>\n",
       "    <tr>\n",
       "      <th>2</th>\n",
       "      <td>m4</td>\n",
       "      <td>0.058078</td>\n",
       "    </tr>\n",
       "    <tr>\n",
       "      <th>8</th>\n",
       "      <td>m10</td>\n",
       "      <td>0.057859</td>\n",
       "    </tr>\n",
       "    <tr>\n",
       "      <th>11</th>\n",
       "      <td>m14</td>\n",
       "      <td>0.057591</td>\n",
       "    </tr>\n",
       "    <tr>\n",
       "      <th>13</th>\n",
       "      <td>pc_w</td>\n",
       "      <td>0.056558</td>\n",
       "    </tr>\n",
       "    <tr>\n",
       "      <th>10</th>\n",
       "      <td>m13</td>\n",
       "      <td>0.056545</td>\n",
       "    </tr>\n",
       "    <tr>\n",
       "      <th>1</th>\n",
       "      <td>m3</td>\n",
       "      <td>0.056307</td>\n",
       "    </tr>\n",
       "    <tr>\n",
       "      <th>5</th>\n",
       "      <td>m7</td>\n",
       "      <td>0.056151</td>\n",
       "    </tr>\n",
       "    <tr>\n",
       "      <th>9</th>\n",
       "      <td>m11</td>\n",
       "      <td>0.056108</td>\n",
       "    </tr>\n",
       "    <tr>\n",
       "      <th>6</th>\n",
       "      <td>m8</td>\n",
       "      <td>0.055939</td>\n",
       "    </tr>\n",
       "    <tr>\n",
       "      <th>15</th>\n",
       "      <td>pc_y</td>\n",
       "      <td>0.055923</td>\n",
       "    </tr>\n",
       "    <tr>\n",
       "      <th>4</th>\n",
       "      <td>m6</td>\n",
       "      <td>0.054870</td>\n",
       "    </tr>\n",
       "    <tr>\n",
       "      <th>7</th>\n",
       "      <td>m9</td>\n",
       "      <td>0.054425</td>\n",
       "    </tr>\n",
       "    <tr>\n",
       "      <th>16</th>\n",
       "      <td>pc_z</td>\n",
       "      <td>0.052641</td>\n",
       "    </tr>\n",
       "    <tr>\n",
       "      <th>20</th>\n",
       "      <td>ma_m78</td>\n",
       "      <td>0.048045</td>\n",
       "    </tr>\n",
       "    <tr>\n",
       "      <th>12</th>\n",
       "      <td>pc_E</td>\n",
       "      <td>0.046613</td>\n",
       "    </tr>\n",
       "    <tr>\n",
       "      <th>14</th>\n",
       "      <td>pc_x</td>\n",
       "      <td>0.046378</td>\n",
       "    </tr>\n",
       "    <tr>\n",
       "      <th>17</th>\n",
       "      <td>ma_m55</td>\n",
       "      <td>0.000000</td>\n",
       "    </tr>\n",
       "    <tr>\n",
       "      <th>18</th>\n",
       "      <td>ma_m75</td>\n",
       "      <td>0.000000</td>\n",
       "    </tr>\n",
       "    <tr>\n",
       "      <th>19</th>\n",
       "      <td>ma_m76</td>\n",
       "      <td>0.000000</td>\n",
       "    </tr>\n",
       "  </tbody>\n",
       "</table>\n",
       "</div>"
      ],
      "text/plain": [
       "   Feature  Importance\n",
       "0       ld    0.071495\n",
       "3       m5    0.058476\n",
       "2       m4    0.058078\n",
       "8      m10    0.057859\n",
       "11     m14    0.057591\n",
       "13    pc_w    0.056558\n",
       "10     m13    0.056545\n",
       "1       m3    0.056307\n",
       "5       m7    0.056151\n",
       "9      m11    0.056108\n",
       "6       m8    0.055939\n",
       "15    pc_y    0.055923\n",
       "4       m6    0.054870\n",
       "7       m9    0.054425\n",
       "16    pc_z    0.052641\n",
       "20  ma_m78    0.048045\n",
       "12    pc_E    0.046613\n",
       "14    pc_x    0.046378\n",
       "17  ma_m55    0.000000\n",
       "18  ma_m75    0.000000\n",
       "19  ma_m76    0.000000"
      ]
     },
     "execution_count": 26,
     "metadata": {},
     "output_type": "execute_result"
    }
   ],
   "source": [
    "feature_importance_df"
   ]
  },
  {
   "cell_type": "markdown",
   "id": "fc0ebf8c",
   "metadata": {},
   "source": [
    "Clear enough , m0,m1 and m2 have very less importance so they are dropped from both the training and testing set"
   ]
  },
  {
   "cell_type": "code",
   "execution_count": 27,
   "id": "f61a51be",
   "metadata": {},
   "outputs": [],
   "source": [
    "new_data = new_data.drop(['m0','m1','m2','m12'],axis = 1)"
   ]
  },
  {
   "cell_type": "markdown",
   "id": "81de70ca",
   "metadata": {},
   "source": [
    "Now , predicting the unknown test data set using our classifier"
   ]
  },
  {
   "cell_type": "code",
   "execution_count": 28,
   "id": "3821cdec",
   "metadata": {},
   "outputs": [],
   "source": [
    "pred = xgb_clf.predict(new_data.drop('index',axis = 1))"
   ]
  },
  {
   "cell_type": "code",
   "execution_count": 29,
   "id": "5916e62c",
   "metadata": {},
   "outputs": [
    {
     "data": {
      "text/plain": [
       "array([0, 1])"
      ]
     },
     "execution_count": 29,
     "metadata": {},
     "output_type": "execute_result"
    }
   ],
   "source": [
    "#checking unique values of np.unique\n",
    "np.unique(pred)"
   ]
  },
  {
   "cell_type": "code",
   "execution_count": 30,
   "id": "1da0bee3",
   "metadata": {},
   "outputs": [
    {
     "data": {
      "text/plain": [
       "1770"
      ]
     },
     "execution_count": 30,
     "metadata": {},
     "output_type": "execute_result"
    }
   ],
   "source": [
    "#checking the frequency of 1\n",
    "np.count_nonzero(pred == 1)"
   ]
  },
  {
   "cell_type": "code",
   "execution_count": 31,
   "id": "14879477",
   "metadata": {},
   "outputs": [],
   "source": [
    "#Save predictions as a data frame\n",
    "pred_df = pd.DataFrame({'pred': pred})\n",
    "\n",
    "# Save predictions to a CSV file\n",
    "pred_df.to_csv('predictions_svc_exp_minmax_dropped_1.csv', index=False)"
   ]
  }
 ],
 "metadata": {
  "kernelspec": {
   "display_name": "Python 3 (ipykernel)",
   "language": "python",
   "name": "python3"
  },
  "language_info": {
   "codemirror_mode": {
    "name": "ipython",
    "version": 3
   },
   "file_extension": ".py",
   "mimetype": "text/x-python",
   "name": "python",
   "nbconvert_exporter": "python",
   "pygments_lexer": "ipython3",
   "version": "3.9.12"
  }
 },
 "nbformat": 4,
 "nbformat_minor": 5
}
