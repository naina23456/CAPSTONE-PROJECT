{
 "cells": [
  {
   "cell_type": "code",
   "execution_count": 1,
   "id": "1f8db408",
   "metadata": {},
   "outputs": [],
   "source": [
    "import numpy as np\n",
    "import pandas as pd\n",
    "import matplotlib.pyplot as plt\n",
    "import seaborn as sns"
   ]
  },
  {
   "cell_type": "code",
   "execution_count": 2,
   "id": "d1d3f6a1",
   "metadata": {},
   "outputs": [],
   "source": [
    "df = pd.read_csv(\"Train_Data.csv\")"
   ]
  },
  {
   "cell_type": "code",
   "execution_count": 3,
   "id": "e3841024",
   "metadata": {},
   "outputs": [
    {
     "data": {
      "text/plain": [
       "(22584, 19)"
      ]
     },
     "execution_count": 3,
     "metadata": {},
     "output_type": "execute_result"
    }
   ],
   "source": [
    "df.shape"
   ]
  },
  {
   "cell_type": "code",
   "execution_count": 4,
   "id": "836a44a8",
   "metadata": {},
   "outputs": [
    {
     "data": {
      "text/html": [
       "<div>\n",
       "<style scoped>\n",
       "    .dataframe tbody tr th:only-of-type {\n",
       "        vertical-align: middle;\n",
       "    }\n",
       "\n",
       "    .dataframe tbody tr th {\n",
       "        vertical-align: top;\n",
       "    }\n",
       "\n",
       "    .dataframe thead th {\n",
       "        text-align: right;\n",
       "    }\n",
       "</style>\n",
       "<table border=\"1\" class=\"dataframe\">\n",
       "  <thead>\n",
       "    <tr style=\"text-align: right;\">\n",
       "      <th></th>\n",
       "      <th>pc</th>\n",
       "      <th>ld</th>\n",
       "      <th>m0</th>\n",
       "      <th>m1</th>\n",
       "      <th>m2</th>\n",
       "      <th>m3</th>\n",
       "      <th>m4</th>\n",
       "      <th>m5</th>\n",
       "      <th>m6</th>\n",
       "      <th>m7</th>\n",
       "      <th>m8</th>\n",
       "      <th>m9</th>\n",
       "      <th>m10</th>\n",
       "      <th>m11</th>\n",
       "      <th>m12</th>\n",
       "      <th>m13</th>\n",
       "      <th>m14</th>\n",
       "      <th>ma</th>\n",
       "      <th>pred</th>\n",
       "    </tr>\n",
       "  </thead>\n",
       "  <tbody>\n",
       "    <tr>\n",
       "      <th>0</th>\n",
       "      <td>y</td>\n",
       "      <td>83.71</td>\n",
       "      <td>63.0</td>\n",
       "      <td>7.2</td>\n",
       "      <td>52.5</td>\n",
       "      <td>14.0232</td>\n",
       "      <td>130.8300</td>\n",
       "      <td>12.4280</td>\n",
       "      <td>188.8425</td>\n",
       "      <td>8.9520</td>\n",
       "      <td>201.1905</td>\n",
       "      <td>9.2896</td>\n",
       "      <td>141.9075</td>\n",
       "      <td>16.0968</td>\n",
       "      <td>150.3390</td>\n",
       "      <td>12.4880</td>\n",
       "      <td>173.1240</td>\n",
       "      <td>m78</td>\n",
       "      <td>0</td>\n",
       "    </tr>\n",
       "    <tr>\n",
       "      <th>1</th>\n",
       "      <td>y</td>\n",
       "      <td>108.94</td>\n",
       "      <td>31.5</td>\n",
       "      <td>12.8</td>\n",
       "      <td>84.0</td>\n",
       "      <td>13.2840</td>\n",
       "      <td>128.8350</td>\n",
       "      <td>13.5256</td>\n",
       "      <td>183.0990</td>\n",
       "      <td>8.8520</td>\n",
       "      <td>207.2385</td>\n",
       "      <td>8.4704</td>\n",
       "      <td>154.7805</td>\n",
       "      <td>13.3304</td>\n",
       "      <td>101.0205</td>\n",
       "      <td>12.5096</td>\n",
       "      <td>131.4075</td>\n",
       "      <td>m78</td>\n",
       "      <td>0</td>\n",
       "    </tr>\n",
       "    <tr>\n",
       "      <th>2</th>\n",
       "      <td>E</td>\n",
       "      <td>169.65</td>\n",
       "      <td>0.0</td>\n",
       "      <td>5.6</td>\n",
       "      <td>73.5</td>\n",
       "      <td>14.5472</td>\n",
       "      <td>128.9295</td>\n",
       "      <td>13.6424</td>\n",
       "      <td>174.4680</td>\n",
       "      <td>8.9800</td>\n",
       "      <td>190.3125</td>\n",
       "      <td>11.3056</td>\n",
       "      <td>156.7650</td>\n",
       "      <td>NaN</td>\n",
       "      <td>122.5350</td>\n",
       "      <td>11.7136</td>\n",
       "      <td>176.8200</td>\n",
       "      <td>m76</td>\n",
       "      <td>1</td>\n",
       "    </tr>\n",
       "    <tr>\n",
       "      <th>3</th>\n",
       "      <td>x</td>\n",
       "      <td>122.42</td>\n",
       "      <td>31.5</td>\n",
       "      <td>7.2</td>\n",
       "      <td>63.0</td>\n",
       "      <td>15.0152</td>\n",
       "      <td>119.8575</td>\n",
       "      <td>12.3344</td>\n",
       "      <td>186.8580</td>\n",
       "      <td>10.7208</td>\n",
       "      <td>193.8195</td>\n",
       "      <td>10.6096</td>\n",
       "      <td>175.7490</td>\n",
       "      <td>NaN</td>\n",
       "      <td>124.8030</td>\n",
       "      <td>13.8424</td>\n",
       "      <td>168.2625</td>\n",
       "      <td>m55</td>\n",
       "      <td>0</td>\n",
       "    </tr>\n",
       "    <tr>\n",
       "      <th>4</th>\n",
       "      <td>E</td>\n",
       "      <td>125.43</td>\n",
       "      <td>94.5</td>\n",
       "      <td>7.2</td>\n",
       "      <td>42.0</td>\n",
       "      <td>14.4176</td>\n",
       "      <td>135.4290</td>\n",
       "      <td>14.5824</td>\n",
       "      <td>187.8135</td>\n",
       "      <td>9.3088</td>\n",
       "      <td>203.1540</td>\n",
       "      <td>9.8280</td>\n",
       "      <td>172.7040</td>\n",
       "      <td>14.4720</td>\n",
       "      <td>120.2145</td>\n",
       "      <td>NaN</td>\n",
       "      <td>150.1185</td>\n",
       "      <td>m76</td>\n",
       "      <td>0</td>\n",
       "    </tr>\n",
       "  </tbody>\n",
       "</table>\n",
       "</div>"
      ],
      "text/plain": [
       "  pc      ld    m0    m1    m2       m3        m4       m5        m6       m7  \\\n",
       "0  y   83.71  63.0   7.2  52.5  14.0232  130.8300  12.4280  188.8425   8.9520   \n",
       "1  y  108.94  31.5  12.8  84.0  13.2840  128.8350  13.5256  183.0990   8.8520   \n",
       "2  E  169.65   0.0   5.6  73.5  14.5472  128.9295  13.6424  174.4680   8.9800   \n",
       "3  x  122.42  31.5   7.2  63.0  15.0152  119.8575  12.3344  186.8580  10.7208   \n",
       "4  E  125.43  94.5   7.2  42.0  14.4176  135.4290  14.5824  187.8135   9.3088   \n",
       "\n",
       "         m8       m9       m10      m11       m12      m13       m14   ma  \\\n",
       "0  201.1905   9.2896  141.9075  16.0968  150.3390  12.4880  173.1240  m78   \n",
       "1  207.2385   8.4704  154.7805  13.3304  101.0205  12.5096  131.4075  m78   \n",
       "2  190.3125  11.3056  156.7650      NaN  122.5350  11.7136  176.8200  m76   \n",
       "3  193.8195  10.6096  175.7490      NaN  124.8030  13.8424  168.2625  m55   \n",
       "4  203.1540   9.8280  172.7040  14.4720  120.2145      NaN  150.1185  m76   \n",
       "\n",
       "   pred  \n",
       "0     0  \n",
       "1     0  \n",
       "2     1  \n",
       "3     0  \n",
       "4     0  "
      ]
     },
     "execution_count": 4,
     "metadata": {},
     "output_type": "execute_result"
    }
   ],
   "source": [
    "df.head()"
   ]
  },
  {
   "cell_type": "code",
   "execution_count": 5,
   "id": "22f47907",
   "metadata": {},
   "outputs": [
    {
     "data": {
      "text/plain": [
       "pc         0\n",
       "ld       222\n",
       "m0         0\n",
       "m1         0\n",
       "m2         0\n",
       "m3       314\n",
       "m4       467\n",
       "m5       576\n",
       "m6       675\n",
       "m7       788\n",
       "m8       900\n",
       "m9      1047\n",
       "m10     1100\n",
       "m11     1227\n",
       "m12     1381\n",
       "m13     1499\n",
       "m14     1589\n",
       "ma         0\n",
       "pred       0\n",
       "dtype: int64"
      ]
     },
     "execution_count": 5,
     "metadata": {},
     "output_type": "execute_result"
    }
   ],
   "source": [
    "df.isnull().sum()"
   ]
  },
  {
   "cell_type": "code",
   "execution_count": 6,
   "id": "f44f88f6",
   "metadata": {},
   "outputs": [],
   "source": [
    "#mean = df.ld.mean()\n",
    "#df.ld.fillna(mean,inplace= True)\n",
    "#df.ld.isnull().sum()"
   ]
  },
  {
   "cell_type": "markdown",
   "id": "eacd60d4",
   "metadata": {},
   "source": [
    "#think later \n",
    "\n",
    "def remove_pps_outliers(df):\n",
    "    df_out = pd.DataFrame()\n",
    "    for key , subdf in df.groupby('ma'):\n",
    "        m = np.mean(subdf.ld)\n",
    "        st= np.std(subdf.ld)\n",
    "        reduced_df = subdf[(subdf.ld > (m-st)) & (subdf.ld <= (m+st))]\n",
    "        df_out = pd.concat([df_out , reduced_df],ignore_index = True)\n",
    "    return df_out\n",
    "df7=remove_pps_outliers(df)\n",
    "df7.shape"
   ]
  },
  {
   "cell_type": "code",
   "execution_count": 7,
   "id": "eb99d776",
   "metadata": {},
   "outputs": [
    {
     "name": "stderr",
     "output_type": "stream",
     "text": [
      "C:\\Users\\harsh\\AppData\\Local\\Temp\\ipykernel_17060\\3517674506.py:1: FutureWarning: Dropping of nuisance columns in DataFrame reductions (with 'numeric_only=None') is deprecated; in a future version this will raise TypeError.  Select only valid columns before calling the reduction.\n",
      "  df.skew(axis = 0)\n"
     ]
    },
    {
     "data": {
      "text/plain": [
       "ld      0.947883\n",
       "m0      0.694593\n",
       "m1      0.476701\n",
       "m2      0.587808\n",
       "m3     -0.012681\n",
       "m4      0.014183\n",
       "m5      0.010545\n",
       "m6     -0.009473\n",
       "m7     -0.018630\n",
       "m8      0.016980\n",
       "m9     -0.009953\n",
       "m10    -0.035048\n",
       "m11    -0.094557\n",
       "m12    -0.056440\n",
       "m13     0.240490\n",
       "m14    -0.051753\n",
       "pred    1.381995\n",
       "dtype: float64"
      ]
     },
     "execution_count": 7,
     "metadata": {},
     "output_type": "execute_result"
    }
   ],
   "source": [
    "df.skew(axis = 0)"
   ]
  },
  {
   "cell_type": "code",
   "execution_count": 8,
   "id": "9f199a6f",
   "metadata": {},
   "outputs": [
    {
     "name": "stderr",
     "output_type": "stream",
     "text": [
      "C:\\Users\\harsh\\anaconda3\\lib\\site-packages\\seaborn\\_decorators.py:36: FutureWarning: Pass the following variable as a keyword arg: x. From version 0.12, the only valid positional argument will be `data`, and passing other arguments without an explicit keyword will result in an error or misinterpretation.\n",
      "  warnings.warn(\n"
     ]
    },
    {
     "data": {
      "text/plain": [
       "<AxesSubplot:xlabel='ld'>"
      ]
     },
     "execution_count": 8,
     "metadata": {},
     "output_type": "execute_result"
    },
    {
     "data": {
      "image/png": "[encoded data removed]",
      "text/plain": [
       "<Figure size 720x432 with 1 Axes>"
      ]
     },
     "metadata": {
      "needs_background": "light"
     },
     "output_type": "display_data"
    }
   ],
   "source": [
    "fig,ax = plt.subplots(figsize=(10,6))\n",
    "sns.boxplot(df.ld)"
   ]
  },
  {
   "cell_type": "markdown",
   "id": "aea193f8",
   "metadata": {},
   "source": [
    "Clearly , we can not use mean imputation as there are large number of outliers"
   ]
  },
  {
   "cell_type": "code",
   "execution_count": 9,
   "id": "d41bb671",
   "metadata": {},
   "outputs": [],
   "source": [
    "#ld column is heavily skewed as 0.95 > 0.5 so median imputation is preferred"
   ]
  },
  {
   "cell_type": "code",
   "execution_count": 10,
   "id": "f359a01c",
   "metadata": {},
   "outputs": [
    {
     "data": {
      "text/plain": [
       "0"
      ]
     },
     "execution_count": 10,
     "metadata": {},
     "output_type": "execute_result"
    }
   ],
   "source": [
    "med = df.ld.median()\n",
    "df.ld.fillna(med,inplace = True)\n",
    "df.ld.isnull().sum()"
   ]
  },
  {
   "cell_type": "code",
   "execution_count": 11,
   "id": "10dce91d",
   "metadata": {},
   "outputs": [
    {
     "data": {
      "text/plain": [
       "-0.012680622070856908"
      ]
     },
     "execution_count": 11,
     "metadata": {},
     "output_type": "execute_result"
    },
    {
     "data": {
      "image/png": "[encoded data removed]",
      "text/plain": [
       "<Figure size 432x288 with 1 Axes>"
      ]
     },
     "metadata": {
      "needs_background": "light"
     },
     "output_type": "display_data"
    }
   ],
   "source": [
    "sns.histplot(df['m3'],kde=True)\n",
    "df.m3.skew()"
   ]
  },
  {
   "cell_type": "code",
   "execution_count": 12,
   "id": "037b16ca",
   "metadata": {},
   "outputs": [
    {
     "data": {
      "text/plain": [
       "0"
      ]
     },
     "execution_count": 12,
     "metadata": {},
     "output_type": "execute_result"
    }
   ],
   "source": [
    "m3_mean = df.m3.mean()\n",
    "df.m3.fillna(m3_mean,inplace = True)\n",
    "df.m3.isnull().sum()"
   ]
  },
  {
   "cell_type": "code",
   "execution_count": 13,
   "id": "4448346e",
   "metadata": {},
   "outputs": [
    {
     "data": {
      "text/plain": [
       "0.01418258877144925"
      ]
     },
     "execution_count": 13,
     "metadata": {},
     "output_type": "execute_result"
    },
    {
     "data": {
      "image/png": "[encoded data removed]",
      "text/plain": [
       "<Figure size 432x288 with 1 Axes>"
      ]
     },
     "metadata": {
      "needs_background": "light"
     },
     "output_type": "display_data"
    }
   ],
   "source": [
    "sns.histplot(df.m4,kde = True)\n",
    "df.m4.skew(axis =0)"
   ]
  },
  {
   "cell_type": "code",
   "execution_count": 14,
   "id": "bd9fb7a8",
   "metadata": {},
   "outputs": [
    {
     "data": {
      "text/plain": [
       "0"
      ]
     },
     "execution_count": 14,
     "metadata": {},
     "output_type": "execute_result"
    }
   ],
   "source": [
    "m4_mean = df.m4.mean()\n",
    "df.m4.fillna(m4_mean,inplace = True)\n",
    "df.m4.isnull().sum()"
   ]
  },
  {
   "cell_type": "code",
   "execution_count": 15,
   "id": "b1f0af69",
   "metadata": {},
   "outputs": [
    {
     "data": {
      "text/plain": [
       "0.010545484107691416"
      ]
     },
     "execution_count": 15,
     "metadata": {},
     "output_type": "execute_result"
    },
    {
     "data": {
      "image/png": "[encoded data removed]",
      "text/plain": [
       "<Figure size 432x288 with 1 Axes>"
      ]
     },
     "metadata": {
      "needs_background": "light"
     },
     "output_type": "display_data"
    }
   ],
   "source": [
    "sns.histplot(df.m5,kde = True)\n",
    "df.m5.skew()"
   ]
  },
  {
   "cell_type": "code",
   "execution_count": 16,
   "id": "35eb06c1",
   "metadata": {},
   "outputs": [
    {
     "data": {
      "text/plain": [
       "0"
      ]
     },
     "execution_count": 16,
     "metadata": {},
     "output_type": "execute_result"
    }
   ],
   "source": [
    "m5_mean = df.m5.mean()\n",
    "df.m5.fillna(m5_mean,inplace = True)\n",
    "df.m5.isnull().sum()"
   ]
  },
  {
   "cell_type": "code",
   "execution_count": 17,
   "id": "30c6f444",
   "metadata": {},
   "outputs": [
    {
     "data": {
      "text/plain": [
       "-0.009472592551641904"
      ]
     },
     "execution_count": 17,
     "metadata": {},
     "output_type": "execute_result"
    },
    {
     "data": {
      "image/png": "[encoded data removed]",
      "text/plain": [
       "<Figure size 432x288 with 1 Axes>"
      ]
     },
     "metadata": {
      "needs_background": "light"
     },
     "output_type": "display_data"
    }
   ],
   "source": [
    "sns.histplot(df.m6,kde = True)\n",
    "df.m6.skew()"
   ]
  },
  {
   "cell_type": "code",
   "execution_count": 18,
   "id": "b9ccae7d",
   "metadata": {},
   "outputs": [
    {
     "data": {
      "text/plain": [
       "0"
      ]
     },
     "execution_count": 18,
     "metadata": {},
     "output_type": "execute_result"
    }
   ],
   "source": [
    "m6_mean = df.m6.mean()\n",
    "df.m6.fillna(m6_mean,inplace = True)\n",
    "df.m6.isnull().sum()"
   ]
  },
  {
   "cell_type": "code",
   "execution_count": 19,
   "id": "e518d250",
   "metadata": {},
   "outputs": [
    {
     "data": {
      "text/plain": [
       "-0.01863029231475716"
      ]
     },
     "execution_count": 19,
     "metadata": {},
     "output_type": "execute_result"
    },
    {
     "data": {
      "image/png": "[encoded data removed]",
      "text/plain": [
       "<Figure size 432x288 with 1 Axes>"
      ]
     },
     "metadata": {
      "needs_background": "light"
     },
     "output_type": "display_data"
    }
   ],
   "source": [
    "sns.histplot(df.m7,kde = True)\n",
    "df.m7.skew()"
   ]
  },
  {
   "cell_type": "code",
   "execution_count": 20,
   "id": "e38f8622",
   "metadata": {},
   "outputs": [
    {
     "data": {
      "text/plain": [
       "0"
      ]
     },
     "execution_count": 20,
     "metadata": {},
     "output_type": "execute_result"
    }
   ],
   "source": [
    "m7_mean = df.m7.mean()\n",
    "df.m7.fillna(m7_mean,inplace = True)\n",
    "df.m7.isnull().sum()"
   ]
  },
  {
   "cell_type": "code",
   "execution_count": 21,
   "id": "3d71cbf8",
   "metadata": {},
   "outputs": [
    {
     "data": {
      "text/plain": [
       "0.0169801188637358"
      ]
     },
     "execution_count": 21,
     "metadata": {},
     "output_type": "execute_result"
    },
    {
     "data": {
      "image/png": "[encoded data removed]",
      "text/plain": [
       "<Figure size 432x288 with 1 Axes>"
      ]
     },
     "metadata": {
      "needs_background": "light"
     },
     "output_type": "display_data"
    }
   ],
   "source": [
    "sns.histplot(df.m8,kde = True)\n",
    "df.m8.skew()"
   ]
  },
  {
   "cell_type": "code",
   "execution_count": 22,
   "id": "c295010a",
   "metadata": {},
   "outputs": [
    {
     "data": {
      "text/plain": [
       "0"
      ]
     },
     "execution_count": 22,
     "metadata": {},
     "output_type": "execute_result"
    }
   ],
   "source": [
    "m8_mean = df.m8.mean()\n",
    "df.m8.fillna(m8_mean,inplace = True)\n",
    "df.m8.isnull().sum()"
   ]
  },
  {
   "cell_type": "code",
   "execution_count": 23,
   "id": "4b29a6bc",
   "metadata": {},
   "outputs": [
    {
     "data": {
      "text/plain": [
       "-0.009953065457062007"
      ]
     },
     "execution_count": 23,
     "metadata": {},
     "output_type": "execute_result"
    },
    {
     "data": {
      "image/png": "[encoded data removed]",
      "text/plain": [
       "<Figure size 432x288 with 1 Axes>"
      ]
     },
     "metadata": {
      "needs_background": "light"
     },
     "output_type": "display_data"
    }
   ],
   "source": [
    "sns.histplot(df.m9,kde = True)\n",
    "df.m9.skew()"
   ]
  },
  {
   "cell_type": "code",
   "execution_count": 24,
   "id": "a49f5415",
   "metadata": {},
   "outputs": [
    {
     "data": {
      "text/plain": [
       "0"
      ]
     },
     "execution_count": 24,
     "metadata": {},
     "output_type": "execute_result"
    }
   ],
   "source": [
    "m9_mean = df.m9.mean()\n",
    "df.m9.fillna(m9_mean,inplace = True)\n",
    "df.m9.isnull().sum()"
   ]
  },
  {
   "cell_type": "code",
   "execution_count": 25,
   "id": "a5a81d37",
   "metadata": {},
   "outputs": [
    {
     "data": {
      "text/plain": [
       "-0.03504759475643185"
      ]
     },
     "execution_count": 25,
     "metadata": {},
     "output_type": "execute_result"
    },
    {
     "data": {
      "image/png": "[encoded data removed]",
      "text/plain": [
       "<Figure size 432x288 with 1 Axes>"
      ]
     },
     "metadata": {
      "needs_background": "light"
     },
     "output_type": "display_data"
    }
   ],
   "source": [
    "sns.histplot(df.m10,kde = True)\n",
    "df.m10.skew()"
   ]
  },
  {
   "cell_type": "code",
   "execution_count": 26,
   "id": "18938f06",
   "metadata": {},
   "outputs": [
    {
     "data": {
      "text/plain": [
       "0"
      ]
     },
     "execution_count": 26,
     "metadata": {},
     "output_type": "execute_result"
    }
   ],
   "source": [
    "m10_mean = df.m10.mean()\n",
    "df.m10.fillna(m10_mean,inplace = True)\n",
    "df.m10.isnull().sum()"
   ]
  },
  {
   "cell_type": "code",
   "execution_count": 27,
   "id": "f80479f2",
   "metadata": {},
   "outputs": [
    {
     "data": {
      "text/plain": [
       "-0.09455721245488337"
      ]
     },
     "execution_count": 27,
     "metadata": {},
     "output_type": "execute_result"
    },
    {
     "data": {
      "image/png": "[encoded data removed]",
      "text/plain": [
       "<Figure size 432x288 with 1 Axes>"
      ]
     },
     "metadata": {
      "needs_background": "light"
     },
     "output_type": "display_data"
    }
   ],
   "source": [
    "sns.histplot(df.m11,kde = True)\n",
    "df.m11.skew()"
   ]
  },
  {
   "cell_type": "code",
   "execution_count": 28,
   "id": "e657d9db",
   "metadata": {},
   "outputs": [
    {
     "data": {
      "text/plain": [
       "0"
      ]
     },
     "execution_count": 28,
     "metadata": {},
     "output_type": "execute_result"
    }
   ],
   "source": [
    "m11_mean = df.m11.mean()\n",
    "df.m11.fillna(m11_mean,inplace = True)\n",
    "df.m11.isnull().sum()"
   ]
  },
  {
   "cell_type": "code",
   "execution_count": 29,
   "id": "ca82a3ca",
   "metadata": {},
   "outputs": [
    {
     "data": {
      "text/plain": [
       "-0.056440145223438404"
      ]
     },
     "execution_count": 29,
     "metadata": {},
     "output_type": "execute_result"
    },
    {
     "data": {
      "image/png": "[encoded data removed]",
      "text/plain": [
       "<Figure size 432x288 with 1 Axes>"
      ]
     },
     "metadata": {
      "needs_background": "light"
     },
     "output_type": "display_data"
    }
   ],
   "source": [
    "sns.histplot(df.m12,kde = True)\n",
    "df.m12.skew()"
   ]
  },
  {
   "cell_type": "code",
   "execution_count": 30,
   "id": "d2cddd7c",
   "metadata": {},
   "outputs": [
    {
     "data": {
      "text/plain": [
       "0"
      ]
     },
     "execution_count": 30,
     "metadata": {},
     "output_type": "execute_result"
    }
   ],
   "source": [
    "m12_mean = df.m12.mean()\n",
    "df.m12.fillna(m12_mean,inplace = True)\n",
    "df.m12.isnull().sum()"
   ]
  },
  {
   "cell_type": "code",
   "execution_count": 31,
   "id": "2fcdd796",
   "metadata": {},
   "outputs": [
    {
     "data": {
      "text/plain": [
       "0.24049046608004093"
      ]
     },
     "execution_count": 31,
     "metadata": {},
     "output_type": "execute_result"
    },
    {
     "data": {
      "image/png": "[encoded data removed]",
      "text/plain": [
       "<Figure size 432x288 with 1 Axes>"
      ]
     },
     "metadata": {
      "needs_background": "light"
     },
     "output_type": "display_data"
    }
   ],
   "source": [
    "sns.histplot(df.m13,kde = True)\n",
    "df.m13.skew()"
   ]
  },
  {
   "cell_type": "code",
   "execution_count": 32,
   "id": "a83c9f62",
   "metadata": {},
   "outputs": [
    {
     "data": {
      "text/plain": [
       "0"
      ]
     },
     "execution_count": 32,
     "metadata": {},
     "output_type": "execute_result"
    }
   ],
   "source": [
    "m13_mean = df.m13.mean()\n",
    "df.m13.fillna(m13_mean,inplace = True)\n",
    "df.m13.isnull().sum()"
   ]
  },
  {
   "cell_type": "code",
   "execution_count": 33,
   "id": "cadaa65c",
   "metadata": {},
   "outputs": [
    {
     "data": {
      "text/plain": [
       "-0.05175255087599011"
      ]
     },
     "execution_count": 33,
     "metadata": {},
     "output_type": "execute_result"
    },
    {
     "data": {
      "image/png": "[encoded data removed]",
      "text/plain": [
       "<Figure size 432x288 with 1 Axes>"
      ]
     },
     "metadata": {
      "needs_background": "light"
     },
     "output_type": "display_data"
    }
   ],
   "source": [
    "sns.histplot(df.m14,kde = True)\n",
    "df.m14.skew()"
   ]
  },
  {
   "cell_type": "code",
   "execution_count": 34,
   "id": "130b04cf",
   "metadata": {},
   "outputs": [
    {
     "data": {
      "text/plain": [
       "0"
      ]
     },
     "execution_count": 34,
     "metadata": {},
     "output_type": "execute_result"
    }
   ],
   "source": [
    "m14_mean = df.m14.mean()\n",
    "df.m14.fillna(m14_mean,inplace = True)\n",
    "df.m14.isnull().sum()"
   ]
  },
  {
   "cell_type": "code",
   "execution_count": 35,
   "id": "6d791949",
   "metadata": {},
   "outputs": [
    {
     "data": {
      "text/plain": [
       "pc      0\n",
       "ld      0\n",
       "m0      0\n",
       "m1      0\n",
       "m2      0\n",
       "m3      0\n",
       "m4      0\n",
       "m5      0\n",
       "m6      0\n",
       "m7      0\n",
       "m8      0\n",
       "m9      0\n",
       "m10     0\n",
       "m11     0\n",
       "m12     0\n",
       "m13     0\n",
       "m14     0\n",
       "ma      0\n",
       "pred    0\n",
       "dtype: int64"
      ]
     },
     "execution_count": 35,
     "metadata": {},
     "output_type": "execute_result"
    }
   ],
   "source": [
    "df.isnull().sum()"
   ]
  },
  {
   "cell_type": "code",
   "execution_count": 36,
   "id": "bf86c433",
   "metadata": {},
   "outputs": [],
   "source": [
    "df3 = pd.get_dummies(df,columns = ['pc','ma'],prefix = ['pc_code','ma_code'])"
   ]
  },
  {
   "cell_type": "code",
   "execution_count": 37,
   "id": "498044fa",
   "metadata": {},
   "outputs": [
    {
     "data": {
      "text/plain": [
       "(22584, 26)"
      ]
     },
     "execution_count": 37,
     "metadata": {},
     "output_type": "execute_result"
    }
   ],
   "source": [
    "df3.shape"
   ]
  },
  {
   "cell_type": "code",
   "execution_count": 38,
   "id": "cefe0d31",
   "metadata": {},
   "outputs": [],
   "source": [
    "from sklearn.model_selection import train_test_split"
   ]
  },
  {
   "cell_type": "code",
   "execution_count": 39,
   "id": "c0e9cee5",
   "metadata": {},
   "outputs": [],
   "source": [
    "X = df3.drop('pred',axis = 1)\n",
    "y = df3.pred"
   ]
  },
  {
   "cell_type": "code",
   "execution_count": 40,
   "id": "8014cdd0",
   "metadata": {},
   "outputs": [],
   "source": [
    "X_train , X_test,y_train,y_test = train_test_split(X,y,test_size=0.2,random_state = 10)"
   ]
  },
  {
   "cell_type": "code",
   "execution_count": 41,
   "id": "fc2f5ca8",
   "metadata": {},
   "outputs": [
    {
     "name": "stderr",
     "output_type": "stream",
     "text": [
      "C:\\Users\\harsh\\anaconda3\\lib\\site-packages\\sklearn\\linear_model\\_logistic.py:460: ConvergenceWarning: lbfgs failed to converge (status=1):\n",
      "STOP: TOTAL NO. of ITERATIONS REACHED LIMIT.\n",
      "\n",
      "Increase the number of iterations (max_iter) or scale the data as shown in:\n",
      "    https://scikit-learn.org/stable/modules/preprocessing.html\n",
      "Please also refer to the documentation for alternative solver options:\n",
      "    https://scikit-learn.org/stable/modules/linear_model.html#logistic-regression\n",
      "  n_iter_i = _check_optimize_result(\n"
     ]
    },
    {
     "data": {
      "text/plain": [
       "0.7972105379676777"
      ]
     },
     "execution_count": 41,
     "metadata": {},
     "output_type": "execute_result"
    }
   ],
   "source": [
    "from sklearn.linear_model import LogisticRegression \n",
    "lr_clf = LogisticRegression()\n",
    "lr_clf.fit(X_train,y_train)\n",
    "lr_clf.score(X_test,y_test)"
   ]
  },
  {
   "cell_type": "code",
   "execution_count": 42,
   "id": "986aeef2",
   "metadata": {},
   "outputs": [],
   "source": [
    "new_data = pd.read_csv(\"Test_Data.csv\")"
   ]
  },
  {
   "cell_type": "code",
   "execution_count": 43,
   "id": "75bde713",
   "metadata": {},
   "outputs": [
    {
     "data": {
      "text/html": [
       "<div>\n",
       "<style scoped>\n",
       "    .dataframe tbody tr th:only-of-type {\n",
       "        vertical-align: middle;\n",
       "    }\n",
       "\n",
       "    .dataframe tbody tr th {\n",
       "        vertical-align: top;\n",
       "    }\n",
       "\n",
       "    .dataframe thead th {\n",
       "        text-align: right;\n",
       "    }\n",
       "</style>\n",
       "<table border=\"1\" class=\"dataframe\">\n",
       "  <thead>\n",
       "    <tr style=\"text-align: right;\">\n",
       "      <th></th>\n",
       "      <th>index</th>\n",
       "      <th>pc</th>\n",
       "      <th>ld</th>\n",
       "      <th>m0</th>\n",
       "      <th>m1</th>\n",
       "      <th>m2</th>\n",
       "      <th>m3</th>\n",
       "      <th>m4</th>\n",
       "      <th>m5</th>\n",
       "      <th>m6</th>\n",
       "      <th>m7</th>\n",
       "      <th>m8</th>\n",
       "      <th>m9</th>\n",
       "      <th>m10</th>\n",
       "      <th>m11</th>\n",
       "      <th>m12</th>\n",
       "      <th>m13</th>\n",
       "      <th>m14</th>\n",
       "      <th>ma</th>\n",
       "    </tr>\n",
       "  </thead>\n",
       "  <tbody>\n",
       "    <tr>\n",
       "      <th>0</th>\n",
       "      <td>0</td>\n",
       "      <td>E</td>\n",
       "      <td>156.46</td>\n",
       "      <td>73.5</td>\n",
       "      <td>8.8</td>\n",
       "      <td>105.0</td>\n",
       "      <td>13.2768</td>\n",
       "      <td>113.5365</td>\n",
       "      <td>13.9552</td>\n",
       "      <td>168.5460</td>\n",
       "      <td>8.5896</td>\n",
       "      <td>187.6560</td>\n",
       "      <td>8.3472</td>\n",
       "      <td>178.5945</td>\n",
       "      <td>14.3192</td>\n",
       "      <td>138.0435</td>\n",
       "      <td>12.7008</td>\n",
       "      <td>166.1100</td>\n",
       "      <td>m76</td>\n",
       "    </tr>\n",
       "    <tr>\n",
       "      <th>1</th>\n",
       "      <td>1</td>\n",
       "      <td>y</td>\n",
       "      <td>58.87</td>\n",
       "      <td>84.0</td>\n",
       "      <td>12.8</td>\n",
       "      <td>42.0</td>\n",
       "      <td>14.4440</td>\n",
       "      <td>126.6930</td>\n",
       "      <td>13.6688</td>\n",
       "      <td>190.6275</td>\n",
       "      <td>10.1712</td>\n",
       "      <td>202.5870</td>\n",
       "      <td>8.5416</td>\n",
       "      <td>166.9815</td>\n",
       "      <td>15.5944</td>\n",
       "      <td>142.5690</td>\n",
       "      <td>11.6832</td>\n",
       "      <td>177.7230</td>\n",
       "      <td>m78</td>\n",
       "    </tr>\n",
       "    <tr>\n",
       "      <th>2</th>\n",
       "      <td>2</td>\n",
       "      <td>w</td>\n",
       "      <td>139.68</td>\n",
       "      <td>126.0</td>\n",
       "      <td>3.2</td>\n",
       "      <td>73.5</td>\n",
       "      <td>14.2432</td>\n",
       "      <td>107.4885</td>\n",
       "      <td>13.8544</td>\n",
       "      <td>168.3255</td>\n",
       "      <td>10.2504</td>\n",
       "      <td>214.2735</td>\n",
       "      <td>11.3392</td>\n",
       "      <td>155.1795</td>\n",
       "      <td>16.0256</td>\n",
       "      <td>132.1005</td>\n",
       "      <td>13.0104</td>\n",
       "      <td>185.6085</td>\n",
       "      <td>m78</td>\n",
       "    </tr>\n",
       "    <tr>\n",
       "      <th>3</th>\n",
       "      <td>3</td>\n",
       "      <td>z</td>\n",
       "      <td>194.06</td>\n",
       "      <td>52.5</td>\n",
       "      <td>6.4</td>\n",
       "      <td>105.0</td>\n",
       "      <td>14.5480</td>\n",
       "      <td>138.6105</td>\n",
       "      <td>13.5080</td>\n",
       "      <td>196.6545</td>\n",
       "      <td>10.6304</td>\n",
       "      <td>213.4650</td>\n",
       "      <td>9.9224</td>\n",
       "      <td>191.1000</td>\n",
       "      <td>14.8256</td>\n",
       "      <td>128.0475</td>\n",
       "      <td>12.1984</td>\n",
       "      <td>180.2745</td>\n",
       "      <td>m75</td>\n",
       "    </tr>\n",
       "    <tr>\n",
       "      <th>4</th>\n",
       "      <td>4</td>\n",
       "      <td>x</td>\n",
       "      <td>173.14</td>\n",
       "      <td>42.0</td>\n",
       "      <td>8.0</td>\n",
       "      <td>136.5</td>\n",
       "      <td>14.9496</td>\n",
       "      <td>103.8765</td>\n",
       "      <td>13.8936</td>\n",
       "      <td>168.3570</td>\n",
       "      <td>9.6184</td>\n",
       "      <td>191.2050</td>\n",
       "      <td>9.9400</td>\n",
       "      <td>185.0310</td>\n",
       "      <td>13.8664</td>\n",
       "      <td>124.7610</td>\n",
       "      <td>NaN</td>\n",
       "      <td>157.6470</td>\n",
       "      <td>m55</td>\n",
       "    </tr>\n",
       "  </tbody>\n",
       "</table>\n",
       "</div>"
      ],
      "text/plain": [
       "   index pc      ld     m0    m1     m2       m3        m4       m5        m6  \\\n",
       "0      0  E  156.46   73.5   8.8  105.0  13.2768  113.5365  13.9552  168.5460   \n",
       "1      1  y   58.87   84.0  12.8   42.0  14.4440  126.6930  13.6688  190.6275   \n",
       "2      2  w  139.68  126.0   3.2   73.5  14.2432  107.4885  13.8544  168.3255   \n",
       "3      3  z  194.06   52.5   6.4  105.0  14.5480  138.6105  13.5080  196.6545   \n",
       "4      4  x  173.14   42.0   8.0  136.5  14.9496  103.8765  13.8936  168.3570   \n",
       "\n",
       "        m7        m8       m9       m10      m11       m12      m13       m14  \\\n",
       "0   8.5896  187.6560   8.3472  178.5945  14.3192  138.0435  12.7008  166.1100   \n",
       "1  10.1712  202.5870   8.5416  166.9815  15.5944  142.5690  11.6832  177.7230   \n",
       "2  10.2504  214.2735  11.3392  155.1795  16.0256  132.1005  13.0104  185.6085   \n",
       "3  10.6304  213.4650   9.9224  191.1000  14.8256  128.0475  12.1984  180.2745   \n",
       "4   9.6184  191.2050   9.9400  185.0310  13.8664  124.7610      NaN  157.6470   \n",
       "\n",
       "    ma  \n",
       "0  m76  \n",
       "1  m78  \n",
       "2  m78  \n",
       "3  m75  \n",
       "4  m55  "
      ]
     },
     "execution_count": 43,
     "metadata": {},
     "output_type": "execute_result"
    }
   ],
   "source": [
    "new_data.head()"
   ]
  },
  {
   "cell_type": "code",
   "execution_count": 44,
   "id": "9ecdd40c",
   "metadata": {},
   "outputs": [
    {
     "name": "stderr",
     "output_type": "stream",
     "text": [
      "C:\\Users\\harsh\\AppData\\Local\\Temp\\ipykernel_17060\\1401083288.py:1: FutureWarning: Dropping of nuisance columns in DataFrame reductions (with 'numeric_only=None') is deprecated; in a future version this will raise TypeError.  Select only valid columns before calling the reduction.\n",
      "  new_data.skew(axis = 0)\n"
     ]
    },
    {
     "data": {
      "text/plain": [
       "index    0.000000\n",
       "ld       1.008613\n",
       "m0       0.770973\n",
       "m1       0.474708\n",
       "m2       0.617869\n",
       "m3       0.060764\n",
       "m4      -0.036484\n",
       "m5       0.028876\n",
       "m6      -0.012267\n",
       "m7      -0.018647\n",
       "m8       0.006886\n",
       "m9       0.035564\n",
       "m10     -0.007866\n",
       "m11     -0.169240\n",
       "m12     -0.034884\n",
       "m13      0.218457\n",
       "m14     -0.089538\n",
       "dtype: float64"
      ]
     },
     "execution_count": 44,
     "metadata": {},
     "output_type": "execute_result"
    }
   ],
   "source": [
    "new_data.skew(axis = 0)"
   ]
  },
  {
   "cell_type": "code",
   "execution_count": 45,
   "id": "61cfcaed",
   "metadata": {},
   "outputs": [
    {
     "data": {
      "text/plain": [
       "index     0\n",
       "pc        0\n",
       "ld       28\n",
       "m0        0\n",
       "m1        0\n",
       "m2        0\n",
       "m3        0\n",
       "m4        0\n",
       "m5        0\n",
       "m6        0\n",
       "m7        0\n",
       "m8        0\n",
       "m9        0\n",
       "m10       0\n",
       "m11       0\n",
       "m12       0\n",
       "m13       0\n",
       "m14       0\n",
       "ma        0\n",
       "dtype: int64"
      ]
     },
     "execution_count": 45,
     "metadata": {},
     "output_type": "execute_result"
    }
   ],
   "source": [
    "# Assuming your DataFrame is called 'df4'\n",
    "columns_to_fill = ['m3', 'm4', 'm5', 'm6', 'm7', 'm8', 'm9', 'm10', 'm11', 'm12', 'm13', 'm14']\n",
    "\n",
    "# Fill NaN values with column means\n",
    "new_data[columns_to_fill] = new_data[columns_to_fill].fillna(new_data[columns_to_fill].mean())\n",
    "new_data.isnull().sum()"
   ]
  },
  {
   "cell_type": "code",
   "execution_count": 46,
   "id": "bdf94b76",
   "metadata": {},
   "outputs": [
    {
     "data": {
      "text/html": [
       "<div>\n",
       "<style scoped>\n",
       "    .dataframe tbody tr th:only-of-type {\n",
       "        vertical-align: middle;\n",
       "    }\n",
       "\n",
       "    .dataframe tbody tr th {\n",
       "        vertical-align: top;\n",
       "    }\n",
       "\n",
       "    .dataframe thead th {\n",
       "        text-align: right;\n",
       "    }\n",
       "</style>\n",
       "<table border=\"1\" class=\"dataframe\">\n",
       "  <thead>\n",
       "    <tr style=\"text-align: right;\">\n",
       "      <th></th>\n",
       "      <th>index</th>\n",
       "      <th>ld</th>\n",
       "      <th>m0</th>\n",
       "      <th>m1</th>\n",
       "      <th>m2</th>\n",
       "      <th>m3</th>\n",
       "      <th>m4</th>\n",
       "      <th>m5</th>\n",
       "      <th>m6</th>\n",
       "      <th>m7</th>\n",
       "      <th>...</th>\n",
       "      <th>m14</th>\n",
       "      <th>pc_code_E</th>\n",
       "      <th>pc_code_w</th>\n",
       "      <th>pc_code_x</th>\n",
       "      <th>pc_code_y</th>\n",
       "      <th>pc_code_z</th>\n",
       "      <th>ma_code_m55</th>\n",
       "      <th>ma_code_m75</th>\n",
       "      <th>ma_code_m76</th>\n",
       "      <th>ma_code_m78</th>\n",
       "    </tr>\n",
       "  </thead>\n",
       "  <tbody>\n",
       "    <tr>\n",
       "      <th>0</th>\n",
       "      <td>0</td>\n",
       "      <td>156.46</td>\n",
       "      <td>73.5</td>\n",
       "      <td>8.8</td>\n",
       "      <td>105.0</td>\n",
       "      <td>13.2768</td>\n",
       "      <td>113.5365</td>\n",
       "      <td>13.9552</td>\n",
       "      <td>168.5460</td>\n",
       "      <td>8.5896</td>\n",
       "      <td>...</td>\n",
       "      <td>166.1100</td>\n",
       "      <td>1</td>\n",
       "      <td>0</td>\n",
       "      <td>0</td>\n",
       "      <td>0</td>\n",
       "      <td>0</td>\n",
       "      <td>0</td>\n",
       "      <td>0</td>\n",
       "      <td>1</td>\n",
       "      <td>0</td>\n",
       "    </tr>\n",
       "    <tr>\n",
       "      <th>1</th>\n",
       "      <td>1</td>\n",
       "      <td>58.87</td>\n",
       "      <td>84.0</td>\n",
       "      <td>12.8</td>\n",
       "      <td>42.0</td>\n",
       "      <td>14.4440</td>\n",
       "      <td>126.6930</td>\n",
       "      <td>13.6688</td>\n",
       "      <td>190.6275</td>\n",
       "      <td>10.1712</td>\n",
       "      <td>...</td>\n",
       "      <td>177.7230</td>\n",
       "      <td>0</td>\n",
       "      <td>0</td>\n",
       "      <td>0</td>\n",
       "      <td>1</td>\n",
       "      <td>0</td>\n",
       "      <td>0</td>\n",
       "      <td>0</td>\n",
       "      <td>0</td>\n",
       "      <td>1</td>\n",
       "    </tr>\n",
       "    <tr>\n",
       "      <th>2</th>\n",
       "      <td>2</td>\n",
       "      <td>139.68</td>\n",
       "      <td>126.0</td>\n",
       "      <td>3.2</td>\n",
       "      <td>73.5</td>\n",
       "      <td>14.2432</td>\n",
       "      <td>107.4885</td>\n",
       "      <td>13.8544</td>\n",
       "      <td>168.3255</td>\n",
       "      <td>10.2504</td>\n",
       "      <td>...</td>\n",
       "      <td>185.6085</td>\n",
       "      <td>0</td>\n",
       "      <td>1</td>\n",
       "      <td>0</td>\n",
       "      <td>0</td>\n",
       "      <td>0</td>\n",
       "      <td>0</td>\n",
       "      <td>0</td>\n",
       "      <td>0</td>\n",
       "      <td>1</td>\n",
       "    </tr>\n",
       "    <tr>\n",
       "      <th>3</th>\n",
       "      <td>3</td>\n",
       "      <td>194.06</td>\n",
       "      <td>52.5</td>\n",
       "      <td>6.4</td>\n",
       "      <td>105.0</td>\n",
       "      <td>14.5480</td>\n",
       "      <td>138.6105</td>\n",
       "      <td>13.5080</td>\n",
       "      <td>196.6545</td>\n",
       "      <td>10.6304</td>\n",
       "      <td>...</td>\n",
       "      <td>180.2745</td>\n",
       "      <td>0</td>\n",
       "      <td>0</td>\n",
       "      <td>0</td>\n",
       "      <td>0</td>\n",
       "      <td>1</td>\n",
       "      <td>0</td>\n",
       "      <td>1</td>\n",
       "      <td>0</td>\n",
       "      <td>0</td>\n",
       "    </tr>\n",
       "    <tr>\n",
       "      <th>4</th>\n",
       "      <td>4</td>\n",
       "      <td>173.14</td>\n",
       "      <td>42.0</td>\n",
       "      <td>8.0</td>\n",
       "      <td>136.5</td>\n",
       "      <td>14.9496</td>\n",
       "      <td>103.8765</td>\n",
       "      <td>13.8936</td>\n",
       "      <td>168.3570</td>\n",
       "      <td>9.6184</td>\n",
       "      <td>...</td>\n",
       "      <td>157.6470</td>\n",
       "      <td>0</td>\n",
       "      <td>0</td>\n",
       "      <td>1</td>\n",
       "      <td>0</td>\n",
       "      <td>0</td>\n",
       "      <td>1</td>\n",
       "      <td>0</td>\n",
       "      <td>0</td>\n",
       "      <td>0</td>\n",
       "    </tr>\n",
       "  </tbody>\n",
       "</table>\n",
       "<p>5 rows × 26 columns</p>\n",
       "</div>"
      ],
      "text/plain": [
       "   index      ld     m0    m1     m2       m3        m4       m5        m6  \\\n",
       "0      0  156.46   73.5   8.8  105.0  13.2768  113.5365  13.9552  168.5460   \n",
       "1      1   58.87   84.0  12.8   42.0  14.4440  126.6930  13.6688  190.6275   \n",
       "2      2  139.68  126.0   3.2   73.5  14.2432  107.4885  13.8544  168.3255   \n",
       "3      3  194.06   52.5   6.4  105.0  14.5480  138.6105  13.5080  196.6545   \n",
       "4      4  173.14   42.0   8.0  136.5  14.9496  103.8765  13.8936  168.3570   \n",
       "\n",
       "        m7  ...       m14  pc_code_E  pc_code_w  pc_code_x  pc_code_y  \\\n",
       "0   8.5896  ...  166.1100          1          0          0          0   \n",
       "1  10.1712  ...  177.7230          0          0          0          1   \n",
       "2  10.2504  ...  185.6085          0          1          0          0   \n",
       "3  10.6304  ...  180.2745          0          0          0          0   \n",
       "4   9.6184  ...  157.6470          0          0          1          0   \n",
       "\n",
       "   pc_code_z  ma_code_m55  ma_code_m75  ma_code_m76  ma_code_m78  \n",
       "0          0            0            0            1            0  \n",
       "1          0            0            0            0            1  \n",
       "2          0            0            0            0            1  \n",
       "3          1            0            1            0            0  \n",
       "4          0            1            0            0            0  \n",
       "\n",
       "[5 rows x 26 columns]"
      ]
     },
     "execution_count": 46,
     "metadata": {},
     "output_type": "execute_result"
    }
   ],
   "source": [
    "df4 = pd.get_dummies(new_data,columns = ['pc','ma'],prefix = ['pc_code','ma_code'])\n",
    "df4.head()"
   ]
  },
  {
   "cell_type": "code",
   "execution_count": 47,
   "id": "104091d9",
   "metadata": {},
   "outputs": [
    {
     "data": {
      "text/plain": [
       "0"
      ]
     },
     "execution_count": 47,
     "metadata": {},
     "output_type": "execute_result"
    }
   ],
   "source": [
    "med_n = df4.ld.median()\n",
    "df4.ld.fillna(med,inplace = True)\n",
    "df4.ld.isnull().sum()\n"
   ]
  },
  {
   "cell_type": "code",
   "execution_count": 48,
   "id": "b887436e",
   "metadata": {},
   "outputs": [
    {
     "data": {
      "text/plain": [
       "Index(['index', 'ld', 'm0', 'm1', 'm2', 'm3', 'm4', 'm5', 'm6', 'm7', 'm8',\n",
       "       'm9', 'm10', 'm11', 'm12', 'm13', 'm14', 'pc_code_E', 'pc_code_w',\n",
       "       'pc_code_x', 'pc_code_y', 'pc_code_z', 'ma_code_m55', 'ma_code_m75',\n",
       "       'ma_code_m76', 'ma_code_m78'],\n",
       "      dtype='object')"
      ]
     },
     "execution_count": 48,
     "metadata": {},
     "output_type": "execute_result"
    }
   ],
   "source": [
    "df4.columns"
   ]
  },
  {
   "cell_type": "code",
   "execution_count": 59,
   "id": "0e2a3428",
   "metadata": {},
   "outputs": [
    {
     "ename": "ModuleNotFoundError",
     "evalue": "No module named 'lightgbm'",
     "output_type": "error",
     "traceback": [
      "\u001b[1;31m---------------------------------------------------------------------------\u001b[0m",
      "\u001b[1;31mModuleNotFoundError\u001b[0m                       Traceback (most recent call last)",
      "Input \u001b[1;32mIn [59]\u001b[0m, in \u001b[0;36m<cell line: 1>\u001b[1;34m()\u001b[0m\n\u001b[1;32m----> 1\u001b[0m \u001b[38;5;28;01mfrom\u001b[39;00m \u001b[38;5;21;01mlightgbm\u001b[39;00m \u001b[38;5;28;01mimport\u001b[39;00m LGBMClassifier\n",
      "\u001b[1;31mModuleNotFoundError\u001b[0m: No module named 'lightgbm'"
     ]
    }
   ],
   "source": [
    "from lightgbm import LGBMClassifier"
   ]
  },
  {
   "cell_type": "code",
   "execution_count": 51,
   "id": "0ceb1f0a",
   "metadata": {},
   "outputs": [],
   "source": [
    "cat_clf = CatBoostClassifier()"
   ]
  },
  {
   "cell_type": "code",
   "execution_count": 53,
   "id": "5d1350d1",
   "metadata": {},
   "outputs": [
    {
     "name": "stdout",
     "output_type": "stream",
     "text": [
      "Accuracy: 0.7956608368386097\n"
     ]
    }
   ],
   "source": [
    "cat_clf.fit(X_train, y_train)\n",
    "\n",
    "# Predict on the test set\n",
    "y_pred = cat_clf.predict(X_test)\n",
    "\n",
    "from sklearn.metrics import accuracy_score\n",
    "# Calculate the accuracy score\n",
    "accuracy = accuracy_score(y_test, y_pred)\n",
    "print(\"Accuracy:\", accuracy)"
   ]
  },
  {
   "cell_type": "code",
   "execution_count": 55,
   "id": "813937ef",
   "metadata": {},
   "outputs": [],
   "source": [
    "pred_df = pd.DataFrame({'pred': y_pred})\n",
    "\n",
    "# Save predictions to a CSV file\n",
    "pred_df.to_csv('predictions_ada.csv', index=False)"
   ]
  },
  {
   "cell_type": "code",
   "execution_count": null,
   "id": "694223cd",
   "metadata": {},
   "outputs": [],
   "source": []
  }
 ],
 "metadata": {
  "kernelspec": {
   "display_name": "Python 3 (ipykernel)",
   "language": "python",
   "name": "python3"
  },
  "language_info": {
   "codemirror_mode": {
    "name": "ipython",
    "version": 3
   },
   "file_extension": ".py",
   "mimetype": "text/x-python",
   "name": "python",
   "nbconvert_exporter": "python",
   "pygments_lexer": "ipython3",
   "version": "3.9.12"
  }
 },
 "nbformat": 4,
 "nbformat_minor": 5
}
